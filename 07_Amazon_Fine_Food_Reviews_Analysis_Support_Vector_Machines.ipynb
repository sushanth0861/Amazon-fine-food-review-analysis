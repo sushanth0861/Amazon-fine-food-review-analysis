{
 "cells": [
  {
   "cell_type": "markdown",
   "metadata": {
    "colab_type": "text",
    "id": "gJaAaTR_XM1A"
   },
   "source": [
    "# Amazon Fine Food Reviews Analysis\n",
    "\n",
    "\n",
    "Data Source: https://www.kaggle.com/snap/amazon-fine-food-reviews <br>\n",
    "\n",
    "EDA: https://nycdatascience.com/blog/student-works/amazon-fine-foods-visualization/\n",
    "\n",
    "\n",
    "The Amazon Fine Food Reviews dataset consists of reviews of fine foods from Amazon.<br>\n",
    "\n",
    "Number of reviews: 568,454<br>\n",
    "Number of users: 256,059<br>\n",
    "Number of products: 74,258<br>\n",
    "Timespan: Oct 1999 - Oct 2012<br>\n",
    "Number of Attributes/Columns in data: 10 \n",
    "\n",
    "Attribute Information:\n",
    "\n",
    "1. Id\n",
    "2. ProductId - unique identifier for the product\n",
    "3. UserId - unqiue identifier for the user\n",
    "4. ProfileName\n",
    "5. HelpfulnessNumerator - number of users who found the review helpful\n",
    "6. HelpfulnessDenominator - number of users who indicated whether they found the review helpful or not\n",
    "7. Score - rating between 1 and 5\n",
    "8. Time - timestamp for the review\n",
    "9. Summary - brief summary of the review\n",
    "10. Text - text of the review\n",
    "\n",
    "\n",
    "#### Objective:\n",
    "Given a review, determine whether the review is positive (rating of 4 or 5) or negative (rating of 1 or 2).\n",
    "\n",
    "<br>\n",
    "[Q] How to determine if a review is positive or negative?<br>\n",
    "<br> \n",
    "[Ans] We could use Score/Rating. A rating of 4 or 5 can be cosnidered as a positive review. A rating of 1 or 2 can be considered as negative one. A review of rating 3 is considered nuetral and such reviews are ignored from our analysis. This is an approximate and proxy way of determining the polarity (positivity/negativity) of a review.\n",
    "\n",
    "\n"
   ]
  },
  {
   "cell_type": "markdown",
   "metadata": {
    "colab_type": "text",
    "id": "IUNuThxQXM1B"
   },
   "source": [
    "# [1]. Reading Data"
   ]
  },
  {
   "cell_type": "markdown",
   "metadata": {
    "colab_type": "text",
    "id": "GFSSZabuXM1D"
   },
   "source": [
    "## [1.1] Loading the data\n",
    "\n",
    "The dataset is available in two forms\n",
    "1. .csv file\n",
    "2. SQLite Database\n",
    "\n",
    "In order to load the data, We have used the SQLITE dataset as it is easier to query the data and visualise the data efficiently.\n",
    "<br> \n",
    "\n",
    "Here as we only want to get the global sentiment of the recommendations (positive or negative), we will purposefully ignore all Scores equal to 3. If the score is above 3, then the recommendation wil be set to \"positive\". Otherwise, it will be set to \"negative\"."
   ]
  },
  {
   "cell_type": "code",
   "execution_count": 1,
   "metadata": {
    "colab": {},
    "colab_type": "code",
    "id": "Y3ymmFztXM1E"
   },
   "outputs": [],
   "source": [
    "%matplotlib inline\n",
    "import warnings\n",
    "warnings.filterwarnings(\"ignore\")\n",
    "\n",
    "\n",
    "import sqlite3\n",
    "import pandas as pd\n",
    "import numpy as np\n",
    "import nltk\n",
    "import string\n",
    "import matplotlib.pyplot as plt\n",
    "import seaborn as sns\n",
    "from sklearn.feature_extraction.text import TfidfTransformer\n",
    "from sklearn.feature_extraction.text import TfidfVectorizer\n",
    "\n",
    "from sklearn.feature_extraction.text import CountVectorizer\n",
    "from sklearn.metrics import confusion_matrix\n",
    "from sklearn import metrics\n",
    "from sklearn.metrics import roc_curve, auc\n",
    "from nltk.stem.porter import PorterStemmer\n",
    "\n",
    "import re\n",
    "# Tutorial about Python regular expressions: https://pymotw.com/2/re/\n",
    "import string\n",
    "from nltk.corpus import stopwords\n",
    "from nltk.stem import PorterStemmer\n",
    "from nltk.stem.wordnet import WordNetLemmatizer\n",
    "\n",
    "from gensim.models import Word2Vec\n",
    "from gensim.models import KeyedVectors\n",
    "import pickle\n",
    "\n",
    "from tqdm import tqdm\n",
    "import os"
   ]
  },
  {
   "cell_type": "code",
   "execution_count": 2,
   "metadata": {
    "colab": {
     "base_uri": "https://localhost:8080/",
     "height": 155
    },
    "colab_type": "code",
    "id": "hDWyGFclXM1K",
    "outputId": "c771e4e2-2c6c-4a62-e84f-f73f16725c65"
   },
   "outputs": [
    {
     "name": "stdout",
     "output_type": "stream",
     "text": [
      "Number of data points in our data (100000, 10)\n"
     ]
    },
    {
     "data": {
      "text/html": [
       "<div>\n",
       "<style scoped>\n",
       "    .dataframe tbody tr th:only-of-type {\n",
       "        vertical-align: middle;\n",
       "    }\n",
       "\n",
       "    .dataframe tbody tr th {\n",
       "        vertical-align: top;\n",
       "    }\n",
       "\n",
       "    .dataframe thead th {\n",
       "        text-align: right;\n",
       "    }\n",
       "</style>\n",
       "<table border=\"1\" class=\"dataframe\">\n",
       "  <thead>\n",
       "    <tr style=\"text-align: right;\">\n",
       "      <th></th>\n",
       "      <th>Id</th>\n",
       "      <th>ProductId</th>\n",
       "      <th>UserId</th>\n",
       "      <th>ProfileName</th>\n",
       "      <th>HelpfulnessNumerator</th>\n",
       "      <th>HelpfulnessDenominator</th>\n",
       "      <th>Score</th>\n",
       "      <th>Time</th>\n",
       "      <th>Summary</th>\n",
       "      <th>Text</th>\n",
       "    </tr>\n",
       "  </thead>\n",
       "  <tbody>\n",
       "    <tr>\n",
       "      <th>0</th>\n",
       "      <td>1</td>\n",
       "      <td>B001E4KFG0</td>\n",
       "      <td>A3SGXH7AUHU8GW</td>\n",
       "      <td>delmartian</td>\n",
       "      <td>1</td>\n",
       "      <td>1</td>\n",
       "      <td>1</td>\n",
       "      <td>1303862400</td>\n",
       "      <td>Good Quality Dog Food</td>\n",
       "      <td>I have bought several of the Vitality canned d...</td>\n",
       "    </tr>\n",
       "    <tr>\n",
       "      <th>1</th>\n",
       "      <td>2</td>\n",
       "      <td>B00813GRG4</td>\n",
       "      <td>A1D87F6ZCVE5NK</td>\n",
       "      <td>dll pa</td>\n",
       "      <td>0</td>\n",
       "      <td>0</td>\n",
       "      <td>0</td>\n",
       "      <td>1346976000</td>\n",
       "      <td>Not as Advertised</td>\n",
       "      <td>Product arrived labeled as Jumbo Salted Peanut...</td>\n",
       "    </tr>\n",
       "    <tr>\n",
       "      <th>2</th>\n",
       "      <td>3</td>\n",
       "      <td>B000LQOCH0</td>\n",
       "      <td>ABXLMWJIXXAIN</td>\n",
       "      <td>Natalia Corres \"Natalia Corres\"</td>\n",
       "      <td>1</td>\n",
       "      <td>1</td>\n",
       "      <td>1</td>\n",
       "      <td>1219017600</td>\n",
       "      <td>\"Delight\" says it all</td>\n",
       "      <td>This is a confection that has been around a fe...</td>\n",
       "    </tr>\n",
       "  </tbody>\n",
       "</table>\n",
       "</div>"
      ],
      "text/plain": [
       "   Id   ProductId          UserId                      ProfileName  \\\n",
       "0   1  B001E4KFG0  A3SGXH7AUHU8GW                       delmartian   \n",
       "1   2  B00813GRG4  A1D87F6ZCVE5NK                           dll pa   \n",
       "2   3  B000LQOCH0   ABXLMWJIXXAIN  Natalia Corres \"Natalia Corres\"   \n",
       "\n",
       "   HelpfulnessNumerator  HelpfulnessDenominator  Score        Time  \\\n",
       "0                     1                       1      1  1303862400   \n",
       "1                     0                       0      0  1346976000   \n",
       "2                     1                       1      1  1219017600   \n",
       "\n",
       "                 Summary                                               Text  \n",
       "0  Good Quality Dog Food  I have bought several of the Vitality canned d...  \n",
       "1      Not as Advertised  Product arrived labeled as Jumbo Salted Peanut...  \n",
       "2  \"Delight\" says it all  This is a confection that has been around a fe...  "
      ]
     },
     "execution_count": 2,
     "metadata": {},
     "output_type": "execute_result"
    }
   ],
   "source": [
    "# using SQLite Table to read data.\n",
    "\n",
    "con = sqlite3.connect('database.sqlite') \n",
    "\n",
    "# filtering only positive and negative reviews i.e. \n",
    "# not taking into consideration those reviews with Score=3\n",
    "# SELECT * FROM Reviews WHERE Score != 3 LIMIT 500000, will give top 500000 data points\n",
    "# you can change the number to any other number based on your computing power\n",
    "\n",
    "# filtered_data = pd.read_sql_query(\"\"\" SELECT * FROM Reviews WHERE Score != 3 LIMIT 500000\"\"\", con) \n",
    "# for tsne assignment you can take 5k data points\n",
    "\n",
    "filtered_data = pd.read_sql_query(\"\"\" SELECT * FROM Reviews WHERE Score != 3 LIMIT 100000\"\"\", con) \n",
    "\n",
    "# Give reviews with Score>3 a positive rating(1), and reviews with a score<3 a negative rating(0).\n",
    "def partition(x):\n",
    "    if x < 3:\n",
    "        return 0\n",
    "    return 1\n",
    "\n",
    "#changing reviews with score less than 3 to be positive and vice-versa\n",
    "actualScore = filtered_data['Score']\n",
    "positiveNegative = actualScore.map(partition) \n",
    "filtered_data['Score'] = positiveNegative\n",
    "print(\"Number of data points in our data\", filtered_data.shape)\n",
    "filtered_data.head(3)"
   ]
  },
  {
   "cell_type": "code",
   "execution_count": 3,
   "metadata": {
    "colab": {},
    "colab_type": "code",
    "id": "ynF1SylMXM1R"
   },
   "outputs": [],
   "source": [
    "display = pd.read_sql_query(\"\"\"\n",
    "SELECT UserId, ProductId, ProfileName, Time, Score, Text, COUNT(*)\n",
    "FROM Reviews\n",
    "GROUP BY UserId\n",
    "HAVING COUNT(*)>1\n",
    "\"\"\", con)"
   ]
  },
  {
   "cell_type": "code",
   "execution_count": 4,
   "metadata": {
    "colab": {
     "base_uri": "https://localhost:8080/",
     "height": 215
    },
    "colab_type": "code",
    "id": "DZJ3yT3FXM1V",
    "outputId": "a6ddf953-4fad-46cc-960f-191c69852862",
    "scrolled": true
   },
   "outputs": [
    {
     "name": "stdout",
     "output_type": "stream",
     "text": [
      "(80668, 7)\n"
     ]
    },
    {
     "data": {
      "text/html": [
       "<div>\n",
       "<style scoped>\n",
       "    .dataframe tbody tr th:only-of-type {\n",
       "        vertical-align: middle;\n",
       "    }\n",
       "\n",
       "    .dataframe tbody tr th {\n",
       "        vertical-align: top;\n",
       "    }\n",
       "\n",
       "    .dataframe thead th {\n",
       "        text-align: right;\n",
       "    }\n",
       "</style>\n",
       "<table border=\"1\" class=\"dataframe\">\n",
       "  <thead>\n",
       "    <tr style=\"text-align: right;\">\n",
       "      <th></th>\n",
       "      <th>UserId</th>\n",
       "      <th>ProductId</th>\n",
       "      <th>ProfileName</th>\n",
       "      <th>Time</th>\n",
       "      <th>Score</th>\n",
       "      <th>Text</th>\n",
       "      <th>COUNT(*)</th>\n",
       "    </tr>\n",
       "  </thead>\n",
       "  <tbody>\n",
       "    <tr>\n",
       "      <th>0</th>\n",
       "      <td>#oc-R115TNMSPFT9I7</td>\n",
       "      <td>B005ZBZLT4</td>\n",
       "      <td>Breyton</td>\n",
       "      <td>1331510400</td>\n",
       "      <td>2</td>\n",
       "      <td>Overall its just OK when considering the price...</td>\n",
       "      <td>2</td>\n",
       "    </tr>\n",
       "    <tr>\n",
       "      <th>1</th>\n",
       "      <td>#oc-R11D9D7SHXIJB9</td>\n",
       "      <td>B005HG9ESG</td>\n",
       "      <td>Louis E. Emory \"hoppy\"</td>\n",
       "      <td>1342396800</td>\n",
       "      <td>5</td>\n",
       "      <td>My wife has recurring extreme muscle spasms, u...</td>\n",
       "      <td>3</td>\n",
       "    </tr>\n",
       "    <tr>\n",
       "      <th>2</th>\n",
       "      <td>#oc-R11DNU2NBKQ23Z</td>\n",
       "      <td>B005ZBZLT4</td>\n",
       "      <td>Kim Cieszykowski</td>\n",
       "      <td>1348531200</td>\n",
       "      <td>1</td>\n",
       "      <td>This coffee is horrible and unfortunately not ...</td>\n",
       "      <td>2</td>\n",
       "    </tr>\n",
       "    <tr>\n",
       "      <th>3</th>\n",
       "      <td>#oc-R11O5J5ZVQE25C</td>\n",
       "      <td>B005HG9ESG</td>\n",
       "      <td>Penguin Chick</td>\n",
       "      <td>1346889600</td>\n",
       "      <td>5</td>\n",
       "      <td>This will be the bottle that you grab from the...</td>\n",
       "      <td>3</td>\n",
       "    </tr>\n",
       "    <tr>\n",
       "      <th>4</th>\n",
       "      <td>#oc-R12KPBODL2B5ZD</td>\n",
       "      <td>B007OSBEV0</td>\n",
       "      <td>Christopher P. Presta</td>\n",
       "      <td>1348617600</td>\n",
       "      <td>1</td>\n",
       "      <td>I didnt like this coffee. Instead of telling y...</td>\n",
       "      <td>2</td>\n",
       "    </tr>\n",
       "  </tbody>\n",
       "</table>\n",
       "</div>"
      ],
      "text/plain": [
       "               UserId   ProductId             ProfileName        Time  Score  \\\n",
       "0  #oc-R115TNMSPFT9I7  B005ZBZLT4                 Breyton  1331510400      2   \n",
       "1  #oc-R11D9D7SHXIJB9  B005HG9ESG  Louis E. Emory \"hoppy\"  1342396800      5   \n",
       "2  #oc-R11DNU2NBKQ23Z  B005ZBZLT4        Kim Cieszykowski  1348531200      1   \n",
       "3  #oc-R11O5J5ZVQE25C  B005HG9ESG           Penguin Chick  1346889600      5   \n",
       "4  #oc-R12KPBODL2B5ZD  B007OSBEV0   Christopher P. Presta  1348617600      1   \n",
       "\n",
       "                                                Text  COUNT(*)  \n",
       "0  Overall its just OK when considering the price...         2  \n",
       "1  My wife has recurring extreme muscle spasms, u...         3  \n",
       "2  This coffee is horrible and unfortunately not ...         2  \n",
       "3  This will be the bottle that you grab from the...         3  \n",
       "4  I didnt like this coffee. Instead of telling y...         2  "
      ]
     },
     "execution_count": 4,
     "metadata": {},
     "output_type": "execute_result"
    }
   ],
   "source": [
    "print(display.shape)\n",
    "display.head()"
   ]
  },
  {
   "cell_type": "code",
   "execution_count": 5,
   "metadata": {
    "colab": {
     "base_uri": "https://localhost:8080/",
     "height": 77
    },
    "colab_type": "code",
    "id": "usktef0yXM1a",
    "outputId": "4b6170fb-05e7-45a7-cd64-ebf729d73a28"
   },
   "outputs": [
    {
     "data": {
      "text/html": [
       "<div>\n",
       "<style scoped>\n",
       "    .dataframe tbody tr th:only-of-type {\n",
       "        vertical-align: middle;\n",
       "    }\n",
       "\n",
       "    .dataframe tbody tr th {\n",
       "        vertical-align: top;\n",
       "    }\n",
       "\n",
       "    .dataframe thead th {\n",
       "        text-align: right;\n",
       "    }\n",
       "</style>\n",
       "<table border=\"1\" class=\"dataframe\">\n",
       "  <thead>\n",
       "    <tr style=\"text-align: right;\">\n",
       "      <th></th>\n",
       "      <th>UserId</th>\n",
       "      <th>ProductId</th>\n",
       "      <th>ProfileName</th>\n",
       "      <th>Time</th>\n",
       "      <th>Score</th>\n",
       "      <th>Text</th>\n",
       "      <th>COUNT(*)</th>\n",
       "    </tr>\n",
       "  </thead>\n",
       "  <tbody>\n",
       "    <tr>\n",
       "      <th>80638</th>\n",
       "      <td>AZY10LLTJ71NX</td>\n",
       "      <td>B001ATMQK2</td>\n",
       "      <td>undertheshrine \"undertheshrine\"</td>\n",
       "      <td>1296691200</td>\n",
       "      <td>5</td>\n",
       "      <td>I bought this 6 pack because for the price tha...</td>\n",
       "      <td>5</td>\n",
       "    </tr>\n",
       "  </tbody>\n",
       "</table>\n",
       "</div>"
      ],
      "text/plain": [
       "              UserId   ProductId                      ProfileName        Time  \\\n",
       "80638  AZY10LLTJ71NX  B001ATMQK2  undertheshrine \"undertheshrine\"  1296691200   \n",
       "\n",
       "       Score                                               Text  COUNT(*)  \n",
       "80638      5  I bought this 6 pack because for the price tha...         5  "
      ]
     },
     "execution_count": 5,
     "metadata": {},
     "output_type": "execute_result"
    }
   ],
   "source": [
    "display[display['UserId']=='AZY10LLTJ71NX']"
   ]
  },
  {
   "cell_type": "code",
   "execution_count": 6,
   "metadata": {
    "colab": {
     "base_uri": "https://localhost:8080/",
     "height": 34
    },
    "colab_type": "code",
    "id": "daUbAIcAXM1f",
    "outputId": "d3dd8506-90ed-4d6b-f278-8b853917df48"
   },
   "outputs": [
    {
     "data": {
      "text/plain": [
       "393063"
      ]
     },
     "execution_count": 6,
     "metadata": {},
     "output_type": "execute_result"
    }
   ],
   "source": [
    "display['COUNT(*)'].sum()"
   ]
  },
  {
   "cell_type": "markdown",
   "metadata": {
    "colab_type": "text",
    "id": "Ckn5wMDrXM1j"
   },
   "source": [
    "#  [2] Exploratory Data Analysis"
   ]
  },
  {
   "cell_type": "markdown",
   "metadata": {
    "colab_type": "text",
    "id": "I-yOEGxsXM1k"
   },
   "source": [
    "## [2.1] Data Cleaning: Deduplication\n",
    "\n",
    "It is observed (as shown in the table below) that the reviews data had many duplicate entries. Hence it was necessary to remove duplicates in order to get unbiased results for the analysis of the data.  Following is an example:"
   ]
  },
  {
   "cell_type": "code",
   "execution_count": 7,
   "metadata": {
    "colab": {
     "base_uri": "https://localhost:8080/",
     "height": 197
    },
    "colab_type": "code",
    "id": "Y6hk_w0DXM1l",
    "outputId": "e0734ad2-9f70-4afe-9e49-86e788d4e998",
    "scrolled": false
   },
   "outputs": [
    {
     "data": {
      "text/html": [
       "<div>\n",
       "<style scoped>\n",
       "    .dataframe tbody tr th:only-of-type {\n",
       "        vertical-align: middle;\n",
       "    }\n",
       "\n",
       "    .dataframe tbody tr th {\n",
       "        vertical-align: top;\n",
       "    }\n",
       "\n",
       "    .dataframe thead th {\n",
       "        text-align: right;\n",
       "    }\n",
       "</style>\n",
       "<table border=\"1\" class=\"dataframe\">\n",
       "  <thead>\n",
       "    <tr style=\"text-align: right;\">\n",
       "      <th></th>\n",
       "      <th>Id</th>\n",
       "      <th>ProductId</th>\n",
       "      <th>UserId</th>\n",
       "      <th>ProfileName</th>\n",
       "      <th>HelpfulnessNumerator</th>\n",
       "      <th>HelpfulnessDenominator</th>\n",
       "      <th>Score</th>\n",
       "      <th>Time</th>\n",
       "      <th>Summary</th>\n",
       "      <th>Text</th>\n",
       "    </tr>\n",
       "  </thead>\n",
       "  <tbody>\n",
       "    <tr>\n",
       "      <th>0</th>\n",
       "      <td>78445</td>\n",
       "      <td>B000HDL1RQ</td>\n",
       "      <td>AR5J8UI46CURR</td>\n",
       "      <td>Geetha Krishnan</td>\n",
       "      <td>2</td>\n",
       "      <td>2</td>\n",
       "      <td>5</td>\n",
       "      <td>1199577600</td>\n",
       "      <td>LOACKER QUADRATINI VANILLA WAFERS</td>\n",
       "      <td>DELICIOUS WAFERS. I FIND THAT EUROPEAN WAFERS ...</td>\n",
       "    </tr>\n",
       "    <tr>\n",
       "      <th>1</th>\n",
       "      <td>138317</td>\n",
       "      <td>B000HDOPYC</td>\n",
       "      <td>AR5J8UI46CURR</td>\n",
       "      <td>Geetha Krishnan</td>\n",
       "      <td>2</td>\n",
       "      <td>2</td>\n",
       "      <td>5</td>\n",
       "      <td>1199577600</td>\n",
       "      <td>LOACKER QUADRATINI VANILLA WAFERS</td>\n",
       "      <td>DELICIOUS WAFERS. I FIND THAT EUROPEAN WAFERS ...</td>\n",
       "    </tr>\n",
       "    <tr>\n",
       "      <th>2</th>\n",
       "      <td>138277</td>\n",
       "      <td>B000HDOPYM</td>\n",
       "      <td>AR5J8UI46CURR</td>\n",
       "      <td>Geetha Krishnan</td>\n",
       "      <td>2</td>\n",
       "      <td>2</td>\n",
       "      <td>5</td>\n",
       "      <td>1199577600</td>\n",
       "      <td>LOACKER QUADRATINI VANILLA WAFERS</td>\n",
       "      <td>DELICIOUS WAFERS. I FIND THAT EUROPEAN WAFERS ...</td>\n",
       "    </tr>\n",
       "    <tr>\n",
       "      <th>3</th>\n",
       "      <td>73791</td>\n",
       "      <td>B000HDOPZG</td>\n",
       "      <td>AR5J8UI46CURR</td>\n",
       "      <td>Geetha Krishnan</td>\n",
       "      <td>2</td>\n",
       "      <td>2</td>\n",
       "      <td>5</td>\n",
       "      <td>1199577600</td>\n",
       "      <td>LOACKER QUADRATINI VANILLA WAFERS</td>\n",
       "      <td>DELICIOUS WAFERS. I FIND THAT EUROPEAN WAFERS ...</td>\n",
       "    </tr>\n",
       "    <tr>\n",
       "      <th>4</th>\n",
       "      <td>155049</td>\n",
       "      <td>B000PAQ75C</td>\n",
       "      <td>AR5J8UI46CURR</td>\n",
       "      <td>Geetha Krishnan</td>\n",
       "      <td>2</td>\n",
       "      <td>2</td>\n",
       "      <td>5</td>\n",
       "      <td>1199577600</td>\n",
       "      <td>LOACKER QUADRATINI VANILLA WAFERS</td>\n",
       "      <td>DELICIOUS WAFERS. I FIND THAT EUROPEAN WAFERS ...</td>\n",
       "    </tr>\n",
       "  </tbody>\n",
       "</table>\n",
       "</div>"
      ],
      "text/plain": [
       "       Id   ProductId         UserId      ProfileName  HelpfulnessNumerator  \\\n",
       "0   78445  B000HDL1RQ  AR5J8UI46CURR  Geetha Krishnan                     2   \n",
       "1  138317  B000HDOPYC  AR5J8UI46CURR  Geetha Krishnan                     2   \n",
       "2  138277  B000HDOPYM  AR5J8UI46CURR  Geetha Krishnan                     2   \n",
       "3   73791  B000HDOPZG  AR5J8UI46CURR  Geetha Krishnan                     2   \n",
       "4  155049  B000PAQ75C  AR5J8UI46CURR  Geetha Krishnan                     2   \n",
       "\n",
       "   HelpfulnessDenominator  Score        Time  \\\n",
       "0                       2      5  1199577600   \n",
       "1                       2      5  1199577600   \n",
       "2                       2      5  1199577600   \n",
       "3                       2      5  1199577600   \n",
       "4                       2      5  1199577600   \n",
       "\n",
       "                             Summary  \\\n",
       "0  LOACKER QUADRATINI VANILLA WAFERS   \n",
       "1  LOACKER QUADRATINI VANILLA WAFERS   \n",
       "2  LOACKER QUADRATINI VANILLA WAFERS   \n",
       "3  LOACKER QUADRATINI VANILLA WAFERS   \n",
       "4  LOACKER QUADRATINI VANILLA WAFERS   \n",
       "\n",
       "                                                Text  \n",
       "0  DELICIOUS WAFERS. I FIND THAT EUROPEAN WAFERS ...  \n",
       "1  DELICIOUS WAFERS. I FIND THAT EUROPEAN WAFERS ...  \n",
       "2  DELICIOUS WAFERS. I FIND THAT EUROPEAN WAFERS ...  \n",
       "3  DELICIOUS WAFERS. I FIND THAT EUROPEAN WAFERS ...  \n",
       "4  DELICIOUS WAFERS. I FIND THAT EUROPEAN WAFERS ...  "
      ]
     },
     "execution_count": 7,
     "metadata": {},
     "output_type": "execute_result"
    }
   ],
   "source": [
    "display= pd.read_sql_query(\"\"\"\n",
    "SELECT *\n",
    "FROM Reviews\n",
    "WHERE Score != 3 AND UserId=\"AR5J8UI46CURR\"\n",
    "ORDER BY ProductID\n",
    "\"\"\", con)\n",
    "display.head()"
   ]
  },
  {
   "cell_type": "markdown",
   "metadata": {
    "colab_type": "text",
    "id": "6169bQm7XM1p"
   },
   "source": [
    "As it can be seen above that same user has multiple reviews with same values for HelpfulnessNumerator, HelpfulnessDenominator, Score, Time, Summary and Text and on doing analysis it was found that <br>\n",
    "<br> \n",
    "ProductId=B000HDOPZG was Loacker Quadratini Vanilla Wafer Cookies, 8.82-Ounce Packages (Pack of 8)<br>\n",
    "<br> \n",
    "ProductId=B000HDL1RQ was Loacker Quadratini Lemon Wafer Cookies, 8.82-Ounce Packages (Pack of 8) and so on<br>\n",
    "\n",
    "It was inferred after analysis that reviews with same parameters other than ProductId belonged to the same product just having different flavour or quantity. Hence in order to reduce redundancy it was decided to eliminate the rows having same parameters.<br>\n",
    "\n",
    "The method used for the same was that we first sort the data according to ProductId and then just keep the first similar product review and delelte the others. for eg. in the above just the review for ProductId=B000HDL1RQ remains. This method ensures that there is only one representative for each product and deduplication without sorting would lead to possibility of different representatives still existing for the same product."
   ]
  },
  {
   "cell_type": "code",
   "execution_count": 8,
   "metadata": {
    "colab": {},
    "colab_type": "code",
    "id": "mofwGNLyXM1q"
   },
   "outputs": [],
   "source": [
    "#Sorting data according to ProductId in ascending order\n",
    "sorted_data=filtered_data.sort_values('ProductId', axis=0, ascending=True, inplace=False, kind='quicksort', na_position='last')"
   ]
  },
  {
   "cell_type": "code",
   "execution_count": 9,
   "metadata": {
    "colab": {
     "base_uri": "https://localhost:8080/",
     "height": 34
    },
    "colab_type": "code",
    "id": "umm8SEMTXM1u",
    "outputId": "642931fd-32e2-4085-abbe-481cd21cff3f"
   },
   "outputs": [
    {
     "data": {
      "text/plain": [
       "(87775, 10)"
      ]
     },
     "execution_count": 9,
     "metadata": {},
     "output_type": "execute_result"
    }
   ],
   "source": [
    "#Deduplication of entries\n",
    "final=sorted_data.drop_duplicates(subset={\"UserId\",\"ProfileName\",\"Time\",\"Text\"}, keep='first', inplace=False)\n",
    "final.shape"
   ]
  },
  {
   "cell_type": "code",
   "execution_count": 10,
   "metadata": {
    "colab": {
     "base_uri": "https://localhost:8080/",
     "height": 34
    },
    "colab_type": "code",
    "id": "QvSN-QZDXM1y",
    "outputId": "53c25a56-8ed1-4b00-a0f2-204ee220f563"
   },
   "outputs": [
    {
     "data": {
      "text/plain": [
       "87.775"
      ]
     },
     "execution_count": 10,
     "metadata": {},
     "output_type": "execute_result"
    }
   ],
   "source": [
    "#Checking to see how much % of data still remains\n",
    "(final['Id'].size*1.0)/(filtered_data['Id'].size*1.0)*100"
   ]
  },
  {
   "cell_type": "markdown",
   "metadata": {
    "colab_type": "text",
    "id": "Rtnu7bd0XM15"
   },
   "source": [
    "<b>Observation:-</b> It was also seen that in two rows given below the value of HelpfulnessNumerator is greater than HelpfulnessDenominator which is not practically possible hence these two rows too are removed from calcualtions"
   ]
  },
  {
   "cell_type": "code",
   "execution_count": 11,
   "metadata": {
    "colab": {
     "base_uri": "https://localhost:8080/",
     "height": 107
    },
    "colab_type": "code",
    "id": "udef206VXM16",
    "outputId": "7b08012f-e421-46d9-85c3-14ba5fdbe2b2"
   },
   "outputs": [
    {
     "data": {
      "text/html": [
       "<div>\n",
       "<style scoped>\n",
       "    .dataframe tbody tr th:only-of-type {\n",
       "        vertical-align: middle;\n",
       "    }\n",
       "\n",
       "    .dataframe tbody tr th {\n",
       "        vertical-align: top;\n",
       "    }\n",
       "\n",
       "    .dataframe thead th {\n",
       "        text-align: right;\n",
       "    }\n",
       "</style>\n",
       "<table border=\"1\" class=\"dataframe\">\n",
       "  <thead>\n",
       "    <tr style=\"text-align: right;\">\n",
       "      <th></th>\n",
       "      <th>Id</th>\n",
       "      <th>ProductId</th>\n",
       "      <th>UserId</th>\n",
       "      <th>ProfileName</th>\n",
       "      <th>HelpfulnessNumerator</th>\n",
       "      <th>HelpfulnessDenominator</th>\n",
       "      <th>Score</th>\n",
       "      <th>Time</th>\n",
       "      <th>Summary</th>\n",
       "      <th>Text</th>\n",
       "    </tr>\n",
       "  </thead>\n",
       "  <tbody>\n",
       "    <tr>\n",
       "      <th>0</th>\n",
       "      <td>64422</td>\n",
       "      <td>B000MIDROQ</td>\n",
       "      <td>A161DK06JJMCYF</td>\n",
       "      <td>J. E. Stephens \"Jeanne\"</td>\n",
       "      <td>3</td>\n",
       "      <td>1</td>\n",
       "      <td>5</td>\n",
       "      <td>1224892800</td>\n",
       "      <td>Bought This for My Son at College</td>\n",
       "      <td>My son loves spaghetti so I didn't hesitate or...</td>\n",
       "    </tr>\n",
       "    <tr>\n",
       "      <th>1</th>\n",
       "      <td>44737</td>\n",
       "      <td>B001EQ55RW</td>\n",
       "      <td>A2V0I904FH7ABY</td>\n",
       "      <td>Ram</td>\n",
       "      <td>3</td>\n",
       "      <td>2</td>\n",
       "      <td>4</td>\n",
       "      <td>1212883200</td>\n",
       "      <td>Pure cocoa taste with crunchy almonds inside</td>\n",
       "      <td>It was almost a 'love at first bite' - the per...</td>\n",
       "    </tr>\n",
       "  </tbody>\n",
       "</table>\n",
       "</div>"
      ],
      "text/plain": [
       "      Id   ProductId          UserId              ProfileName  \\\n",
       "0  64422  B000MIDROQ  A161DK06JJMCYF  J. E. Stephens \"Jeanne\"   \n",
       "1  44737  B001EQ55RW  A2V0I904FH7ABY                      Ram   \n",
       "\n",
       "   HelpfulnessNumerator  HelpfulnessDenominator  Score        Time  \\\n",
       "0                     3                       1      5  1224892800   \n",
       "1                     3                       2      4  1212883200   \n",
       "\n",
       "                                        Summary  \\\n",
       "0             Bought This for My Son at College   \n",
       "1  Pure cocoa taste with crunchy almonds inside   \n",
       "\n",
       "                                                Text  \n",
       "0  My son loves spaghetti so I didn't hesitate or...  \n",
       "1  It was almost a 'love at first bite' - the per...  "
      ]
     },
     "execution_count": 11,
     "metadata": {},
     "output_type": "execute_result"
    }
   ],
   "source": [
    "display= pd.read_sql_query(\"\"\"\n",
    "SELECT *\n",
    "FROM Reviews\n",
    "WHERE Score != 3 AND Id=44737 OR Id=64422\n",
    "ORDER BY ProductID\n",
    "\"\"\", con)\n",
    "\n",
    "display.head()"
   ]
  },
  {
   "cell_type": "code",
   "execution_count": 12,
   "metadata": {
    "colab": {},
    "colab_type": "code",
    "id": "ljM-aiCwXM19"
   },
   "outputs": [],
   "source": [
    "final=final[final.HelpfulnessNumerator<=final.HelpfulnessDenominator]"
   ]
  },
  {
   "cell_type": "code",
   "execution_count": 13,
   "metadata": {
    "colab": {
     "base_uri": "https://localhost:8080/",
     "height": 87
    },
    "colab_type": "code",
    "id": "OJFyvwWIXM2B",
    "outputId": "3ad7e956-944a-40f0-ed18-e3a9ad096cbd"
   },
   "outputs": [
    {
     "name": "stdout",
     "output_type": "stream",
     "text": [
      "(87773, 10)\n"
     ]
    },
    {
     "data": {
      "text/plain": [
       "1    73592\n",
       "0    14181\n",
       "Name: Score, dtype: int64"
      ]
     },
     "execution_count": 13,
     "metadata": {},
     "output_type": "execute_result"
    }
   ],
   "source": [
    "#Before starting the next phase of preprocessing lets see the number of entries left\n",
    "print(final.shape)\n",
    "\n",
    "#How many positive and negative reviews are present in our dataset?\n",
    "final['Score'].value_counts()"
   ]
  },
  {
   "cell_type": "markdown",
   "metadata": {
    "colab_type": "text",
    "id": "N8qyjGkRXM2E"
   },
   "source": [
    "#  [3] Preprocessing"
   ]
  },
  {
   "cell_type": "markdown",
   "metadata": {
    "colab_type": "text",
    "id": "oBWP0URBXM2F"
   },
   "source": [
    "## [3.1].  Preprocessing Review Text\n",
    "\n",
    "Now that we have finished deduplication our data requires some preprocessing before we go on further with analysis and making the prediction model.\n",
    "\n",
    "Hence in the Preprocessing phase we do the following in the order below:-\n",
    "\n",
    "1. Begin by removing the html tags\n",
    "2. Remove any punctuations or limited set of special characters like , or . or # etc.\n",
    "3. Check if the word is made up of english letters and is not alpha-numeric\n",
    "4. Check to see if the length of the word is greater than 2 (as it was researched that there is no adjective in 2-letters)\n",
    "5. Convert the word to lowercase\n",
    "6. Remove Stopwords\n",
    "7. Finally Snowball Stemming the word (it was obsereved to be better than Porter Stemming)<br>\n",
    "\n",
    "After which we collect the words used to describe positive and negative reviews"
   ]
  },
  {
   "cell_type": "code",
   "execution_count": 14,
   "metadata": {
    "colab": {
     "base_uri": "https://localhost:8080/",
     "height": 178
    },
    "colab_type": "code",
    "id": "4i2dB1ilXM2F",
    "outputId": "c3265552-b361-479b-cc77-a8e512c1f6fe"
   },
   "outputs": [
    {
     "name": "stdout",
     "output_type": "stream",
     "text": [
      "My dogs loves this chicken but its a product from China, so we wont be buying it anymore.  Its very hard to find any chicken products made in the USA but they are out there, but this one isnt.  Its too bad too because its a good product but I wont take any chances till they know what is going on with the china imports.\n",
      "==================================================\n",
      "The Candy Blocks were a nice visual for the Lego Birthday party but the candy has little taste to it.  Very little of the 2 lbs that I bought were eaten and I threw the rest away.  I would not buy the candy again.\n",
      "==================================================\n",
      "was way to hot for my blood, took a bite and did a jig  lol\n",
      "==================================================\n",
      "My dog LOVES these treats. They tend to have a very strong fish oil smell. So if you are afraid of the fishy smell, don't get it. But I think my dog likes it because of the smell. These treats are really small in size. They are great for training. You can give your dog several of these without worrying about him over eating. Amazon's price was much more reasonable than any other retailer. You can buy a 1 pound bag on Amazon for almost the same price as a 6 ounce bag at other retailers. It's definitely worth it to buy a big bag if your dog eats them a lot.\n",
      "==================================================\n"
     ]
    }
   ],
   "source": [
    "# printing some random reviews\n",
    "sent_0 = final['Text'].values[0]\n",
    "print(sent_0)\n",
    "print(\"=\"*50)\n",
    "\n",
    "sent_1000 = final['Text'].values[1000]\n",
    "print(sent_1000)\n",
    "print(\"=\"*50)\n",
    "\n",
    "sent_1500 = final['Text'].values[1500]\n",
    "print(sent_1500)\n",
    "print(\"=\"*50)\n",
    "\n",
    "sent_4900 = final['Text'].values[4900]\n",
    "print(sent_4900)\n",
    "print(\"=\"*50)"
   ]
  },
  {
   "cell_type": "code",
   "execution_count": 15,
   "metadata": {
    "colab": {
     "base_uri": "https://localhost:8080/",
     "height": 54
    },
    "colab_type": "code",
    "id": "DAEaea3HXM2J",
    "outputId": "aedb7350-8eb6-4d79-87e3-41421e26c703"
   },
   "outputs": [
    {
     "name": "stdout",
     "output_type": "stream",
     "text": [
      "My dogs loves this chicken but its a product from China, so we wont be buying it anymore.  Its very hard to find any chicken products made in the USA but they are out there, but this one isnt.  Its too bad too because its a good product but I wont take any chances till they know what is going on with the china imports.\n"
     ]
    }
   ],
   "source": [
    "# remove urls from text python: https://stackoverflow.com/a/40823105/4084039\n",
    "sent_0 = re.sub(r\"http\\S+\", \"\", sent_0)\n",
    "sent_1000 = re.sub(r\"http\\S+\", \"\", sent_1000)\n",
    "sent_150 = re.sub(r\"http\\S+\", \"\", sent_1500)\n",
    "sent_4900 = re.sub(r\"http\\S+\", \"\", sent_4900)\n",
    "\n",
    "print(sent_0)"
   ]
  },
  {
   "cell_type": "code",
   "execution_count": 16,
   "metadata": {
    "colab": {
     "base_uri": "https://localhost:8080/",
     "height": 161
    },
    "colab_type": "code",
    "id": "H73pHfdyXM2N",
    "outputId": "ace4a976-9239-4568-f564-6748a87e5472"
   },
   "outputs": [
    {
     "name": "stdout",
     "output_type": "stream",
     "text": [
      "My dogs loves this chicken but its a product from China, so we wont be buying it anymore.  Its very hard to find any chicken products made in the USA but they are out there, but this one isnt.  Its too bad too because its a good product but I wont take any chances till they know what is going on with the china imports.\n",
      "==================================================\n",
      "The Candy Blocks were a nice visual for the Lego Birthday party but the candy has little taste to it.  Very little of the 2 lbs that I bought were eaten and I threw the rest away.  I would not buy the candy again.\n",
      "==================================================\n",
      "was way to hot for my blood, took a bite and did a jig  lol\n",
      "==================================================\n",
      "My dog LOVES these treats. They tend to have a very strong fish oil smell. So if you are afraid of the fishy smell, don't get it. But I think my dog likes it because of the smell. These treats are really small in size. They are great for training. You can give your dog several of these without worrying about him over eating. Amazon's price was much more reasonable than any other retailer. You can buy a 1 pound bag on Amazon for almost the same price as a 6 ounce bag at other retailers. It's definitely worth it to buy a big bag if your dog eats them a lot.\n"
     ]
    }
   ],
   "source": [
    "# https://stackoverflow.com/questions/16206380/python-beautifulsoup-how-to-remove-all-tags-from-an-element\n",
    "from bs4 import BeautifulSoup\n",
    "\n",
    "soup = BeautifulSoup(sent_0, 'lxml')\n",
    "text = soup.get_text()\n",
    "print(text)\n",
    "print(\"=\"*50)\n",
    "\n",
    "soup = BeautifulSoup(sent_1000, 'lxml')\n",
    "text = soup.get_text()\n",
    "print(text)\n",
    "print(\"=\"*50)\n",
    "\n",
    "soup = BeautifulSoup(sent_1500, 'lxml')\n",
    "text = soup.get_text()\n",
    "print(text)\n",
    "print(\"=\"*50)\n",
    "\n",
    "soup = BeautifulSoup(sent_4900, 'lxml')\n",
    "text = soup.get_text()\n",
    "print(text)"
   ]
  },
  {
   "cell_type": "code",
   "execution_count": 17,
   "metadata": {
    "colab": {},
    "colab_type": "code",
    "id": "kHrG57p9XM2R"
   },
   "outputs": [],
   "source": [
    "# https://stackoverflow.com/a/47091490/4084039\n",
    "import re\n",
    "\n",
    "def decontracted(phrase):\n",
    "    # specific\n",
    "    phrase = re.sub(r\"won't\", \"will not\", phrase)\n",
    "    phrase = re.sub(r\"can\\'t\", \"can not\", phrase)\n",
    "\n",
    "    # general\n",
    "    phrase = re.sub(r\"n\\'t\", \" not\", phrase)\n",
    "    phrase = re.sub(r\"\\'re\", \" are\", phrase)\n",
    "    phrase = re.sub(r\"\\'s\", \" is\", phrase)\n",
    "    phrase = re.sub(r\"\\'d\", \" would\", phrase)\n",
    "    phrase = re.sub(r\"\\'ll\", \" will\", phrase)\n",
    "    phrase = re.sub(r\"\\'t\", \" not\", phrase)\n",
    "    phrase = re.sub(r\"\\'ve\", \" have\", phrase)\n",
    "    phrase = re.sub(r\"\\'m\", \" am\", phrase)\n",
    "    return phrase"
   ]
  },
  {
   "cell_type": "code",
   "execution_count": 18,
   "metadata": {
    "colab": {
     "base_uri": "https://localhost:8080/",
     "height": 52
    },
    "colab_type": "code",
    "id": "93gQ3YOiXM2U",
    "outputId": "d3f21e63-3034-40c5-84cc-23c755fabd8a"
   },
   "outputs": [
    {
     "name": "stdout",
     "output_type": "stream",
     "text": [
      "was way to hot for my blood, took a bite and did a jig  lol\n",
      "==================================================\n"
     ]
    }
   ],
   "source": [
    "sent_1500 = decontracted(sent_1500)\n",
    "print(sent_1500)\n",
    "print(\"=\"*50)"
   ]
  },
  {
   "cell_type": "code",
   "execution_count": 19,
   "metadata": {
    "colab": {
     "base_uri": "https://localhost:8080/",
     "height": 54
    },
    "colab_type": "code",
    "id": "8XOuM8z7XM2X",
    "outputId": "47a21ea5-1779-4ef1-97f2-1f1efb0af58b"
   },
   "outputs": [
    {
     "name": "stdout",
     "output_type": "stream",
     "text": [
      "My dogs loves this chicken but its a product from China, so we wont be buying it anymore.  Its very hard to find any chicken products made in the USA but they are out there, but this one isnt.  Its too bad too because its a good product but I wont take any chances till they know what is going on with the china imports.\n"
     ]
    }
   ],
   "source": [
    "#remove words with numbers python: https://stackoverflow.com/a/18082370/4084039\n",
    "sent_0 = re.sub(\"\\S*\\d\\S*\", \"\", sent_0).strip()\n",
    "print(sent_0)"
   ]
  },
  {
   "cell_type": "code",
   "execution_count": 20,
   "metadata": {
    "colab": {
     "base_uri": "https://localhost:8080/",
     "height": 34
    },
    "colab_type": "code",
    "id": "MuJ4LyxuXM2c",
    "outputId": "ba7c91ae-3883-495f-cf6f-63c7ec83eda5"
   },
   "outputs": [
    {
     "name": "stdout",
     "output_type": "stream",
     "text": [
      "was way to hot for my blood took a bite and did a jig lol\n"
     ]
    }
   ],
   "source": [
    "#remove spacial character: https://stackoverflow.com/a/5843547/4084039\n",
    "sent_1500 = re.sub('[^A-Za-z0-9]+', ' ', sent_1500)\n",
    "print(sent_1500)"
   ]
  },
  {
   "cell_type": "code",
   "execution_count": 21,
   "metadata": {
    "colab": {},
    "colab_type": "code",
    "id": "8-dN79BYXM2f"
   },
   "outputs": [],
   "source": [
    "# https://gist.github.com/sebleier/554280\n",
    "# we are removing the words from the stop words list: 'no', 'nor', 'not'\n",
    "# <br /><br /> ==> after the above steps, we are getting \"br br\"\n",
    "# we are including them into stop words list\n",
    "# instead of <br /> if we have <br/> these tags would have revmoved in the 1st step\n",
    "\n",
    "stopwords= set(['br', 'the', 'i', 'me', 'my', 'myself', 'we', 'our', 'ours', 'ourselves', 'you', \"you're\", \"you've\",\\\n",
    "            \"you'll\", \"you'd\", 'your', 'yours', 'yourself', 'yourselves', 'he', 'him', 'his', 'himself', \\\n",
    "            'she', \"she's\", 'her', 'hers', 'herself', 'it', \"it's\", 'its', 'itself', 'they', 'them', 'their',\\\n",
    "            'theirs', 'themselves', 'what', 'which', 'who', 'whom', 'this', 'that', \"that'll\", 'these', 'those', \\\n",
    "            'am', 'is', 'are', 'was', 'were', 'be', 'been', 'being', 'have', 'has', 'had', 'having', 'do', 'does', \\\n",
    "            'did', 'doing', 'a', 'an', 'the', 'and', 'but', 'if', 'or', 'because', 'as', 'until', 'while', 'of', \\\n",
    "            'at', 'by', 'for', 'with', 'about', 'against', 'between', 'into', 'through', 'during', 'before', 'after',\\\n",
    "            'above', 'below', 'to', 'from', 'up', 'down', 'in', 'out', 'on', 'off', 'over', 'under', 'again', 'further',\\\n",
    "            'then', 'once', 'here', 'there', 'when', 'where', 'why', 'how', 'all', 'any', 'both', 'each', 'few', 'more',\\\n",
    "            'most', 'other', 'some', 'such', 'only', 'own', 'same', 'so', 'than', 'too', 'very', \\\n",
    "            's', 't', 'can', 'will', 'just', 'don', \"don't\", 'should', \"should've\", 'now', 'd', 'll', 'm', 'o', 're', \\\n",
    "            've', 'y', 'ain', 'aren', \"aren't\", 'couldn', \"couldn't\", 'didn', \"didn't\", 'doesn', \"doesn't\", 'hadn',\\\n",
    "            \"hadn't\", 'hasn', \"hasn't\", 'haven', \"haven't\", 'isn', \"isn't\", 'ma', 'mightn', \"mightn't\", 'mustn',\\\n",
    "            \"mustn't\", 'needn', \"needn't\", 'shan', \"shan't\", 'shouldn', \"shouldn't\", 'wasn', \"wasn't\", 'weren', \"weren't\", \\\n",
    "            'won', \"won't\", 'wouldn', \"wouldn't\"])"
   ]
  },
  {
   "cell_type": "code",
   "execution_count": 22,
   "metadata": {
    "colab": {
     "base_uri": "https://localhost:8080/",
     "height": 34
    },
    "colab_type": "code",
    "id": "bufB33H2XM2i",
    "outputId": "a8ff8f49-fab9-4eb6-bae6-45ccbe274d1a"
   },
   "outputs": [
    {
     "name": "stderr",
     "output_type": "stream",
     "text": [
      "100%|██████████| 87773/87773 [00:36<00:00, 2395.99it/s]\n"
     ]
    }
   ],
   "source": [
    "# Combining all the above stundents \n",
    "from tqdm import tqdm\n",
    "preprocessed_reviews = []\n",
    "# tqdm is for printing the status bar\n",
    "for sentance in tqdm(final['Text'].values):\n",
    "    sentance = re.sub(r\"http\\S+\", \"\", sentance)\n",
    "    sentance = BeautifulSoup(sentance, 'lxml').get_text()\n",
    "    sentance = decontracted(sentance)\n",
    "    sentance = re.sub(\"\\S*\\d\\S*\", \"\", sentance).strip()\n",
    "    sentance = re.sub('[^A-Za-z]+', ' ', sentance)\n",
    "    # https://gist.github.com/sebleier/554280\n",
    "    sentance = ' '.join(e.lower() for e in sentance.split() if e.lower() not in stopwords)\n",
    "    preprocessed_reviews.append(sentance.strip())"
   ]
  },
  {
   "cell_type": "code",
   "execution_count": 23,
   "metadata": {
    "colab": {
     "base_uri": "https://localhost:8080/",
     "height": 34
    },
    "colab_type": "code",
    "id": "iD1j5v9kXM2l",
    "outputId": "3179879c-a39d-4228-c2ae-8dfbb01ec5e0"
   },
   "outputs": [
    {
     "data": {
      "text/plain": [
       "'way hot blood took bite jig lol'"
      ]
     },
     "execution_count": 23,
     "metadata": {},
     "output_type": "execute_result"
    }
   ],
   "source": [
    "preprocessed_reviews[1500]"
   ]
  },
  {
   "cell_type": "markdown",
   "metadata": {
    "colab_type": "text",
    "id": "diIY76ECXM2q"
   },
   "source": [
    "<h2><font color='red'>[3.2] Preprocessing Review Summary</font></h2>"
   ]
  },
  {
   "cell_type": "code",
   "execution_count": 24,
   "metadata": {
    "colab": {},
    "colab_type": "code",
    "id": "gNQ5RCfTXM2s"
   },
   "outputs": [],
   "source": [
    "## Similartly you can do preprocessing for review summary also."
   ]
  },
  {
   "cell_type": "markdown",
   "metadata": {
    "colab_type": "text",
    "id": "CTC5FJ90XM2w"
   },
   "source": [
    "# [4] Featurization"
   ]
  },
  {
   "cell_type": "markdown",
   "metadata": {
    "colab_type": "text",
    "id": "0lJ7ZhVOXM2x"
   },
   "source": [
    "## [4.1] BAG OF WORDS"
   ]
  },
  {
   "cell_type": "code",
   "execution_count": 25,
   "metadata": {
    "colab": {
     "base_uri": "https://localhost:8080/",
     "height": 105
    },
    "colab_type": "code",
    "id": "6FGJ7jOHXM2x",
    "outputId": "efc1882a-f5aa-46c6-b2d3-8fd7d9b18c3d"
   },
   "outputs": [
    {
     "name": "stdout",
     "output_type": "stream",
     "text": [
      "some feature names  ['aa', 'aaa', 'aaaa', 'aaaaa', 'aaaaaaaaaaaa', 'aaaaaaaaaaaaaaa', 'aaaaaaahhhhhh', 'aaaaaaarrrrrggghhh', 'aaaaaawwwwwwwwww', 'aaaaah']\n",
      "==================================================\n",
      "the type of count vectorizer  <class 'scipy.sparse.csr.csr_matrix'>\n",
      "the shape of out text BOW vectorizer  (87773, 54904)\n",
      "the number of unique words  54904\n"
     ]
    }
   ],
   "source": [
    "#BoW\n",
    "count_vect = CountVectorizer() #in scikit-learn\n",
    "count_vect.fit(preprocessed_reviews)\n",
    "print(\"some feature names \", count_vect.get_feature_names()[:10])\n",
    "print('='*50)\n",
    "\n",
    "final_counts = count_vect.transform(preprocessed_reviews)\n",
    "print(\"the type of count vectorizer \",type(final_counts))\n",
    "print(\"the shape of out text BOW vectorizer \",final_counts.get_shape())\n",
    "print(\"the number of unique words \", final_counts.get_shape()[1])"
   ]
  },
  {
   "cell_type": "markdown",
   "metadata": {
    "colab_type": "text",
    "id": "QhN0DIGTXM21"
   },
   "source": [
    "## [4.2] Bi-Grams and n-Grams."
   ]
  },
  {
   "cell_type": "code",
   "execution_count": 26,
   "metadata": {
    "colab": {
     "base_uri": "https://localhost:8080/",
     "height": 70
    },
    "colab_type": "code",
    "id": "JnHmsRB0XM21",
    "outputId": "876feae7-f74c-46d7-a9d4-c0ea5072df57"
   },
   "outputs": [
    {
     "name": "stdout",
     "output_type": "stream",
     "text": [
      "the type of count vectorizer  <class 'scipy.sparse.csr.csr_matrix'>\n",
      "the shape of out text BOW vectorizer  (87773, 5000)\n",
      "the number of unique words including both unigrams and bigrams  5000\n"
     ]
    }
   ],
   "source": [
    "#bi-gram, tri-gram and n-gram\n",
    "\n",
    "#removing stop words like \"not\" should be avoided before building n-grams\n",
    "# count_vect = CountVectorizer(ngram_range=(1,2))\n",
    "# please do read the CountVectorizer documentation http://scikit-learn.org/stable/modules/generated/sklearn.feature_extraction.text.CountVectorizer.html\n",
    "\n",
    "# you can choose these numebrs min_df=10, max_features=5000, of your choice\n",
    "count_vect = CountVectorizer(ngram_range=(1,2), min_df=10, max_features=5000)\n",
    "final_bigram_counts = count_vect.fit_transform(preprocessed_reviews)\n",
    "print(\"the type of count vectorizer \",type(final_bigram_counts))\n",
    "print(\"the shape of out text BOW vectorizer \",final_bigram_counts.get_shape())\n",
    "print(\"the number of unique words including both unigrams and bigrams \", final_bigram_counts.get_shape()[1])"
   ]
  },
  {
   "cell_type": "markdown",
   "metadata": {
    "colab_type": "text",
    "id": "H1R57dH1XM24"
   },
   "source": [
    "## [4.3] TF-IDF"
   ]
  },
  {
   "cell_type": "code",
   "execution_count": 27,
   "metadata": {
    "colab": {
     "base_uri": "https://localhost:8080/",
     "height": 105
    },
    "colab_type": "code",
    "id": "wAaeRc5NXM25",
    "outputId": "25d8e191-dad4-4863-d7f3-add6f1fe5fe5"
   },
   "outputs": [
    {
     "name": "stdout",
     "output_type": "stream",
     "text": [
      "some sample features(unique words in the corpus) ['aa', 'aafco', 'aback', 'abandon', 'abandoned', 'abdominal', 'ability', 'able', 'able add', 'able brew']\n",
      "==================================================\n",
      "the type of count vectorizer  <class 'scipy.sparse.csr.csr_matrix'>\n",
      "the shape of out text TFIDF vectorizer  (87773, 51709)\n",
      "the number of unique words including both unigrams and bigrams  51709\n"
     ]
    }
   ],
   "source": [
    "tf_idf_vect = TfidfVectorizer(ngram_range=(1,2), min_df=10)\n",
    "tf_idf_vect.fit(preprocessed_reviews)\n",
    "print(\"some sample features(unique words in the corpus)\",tf_idf_vect.get_feature_names()[0:10])\n",
    "print('='*50)\n",
    "\n",
    "final_tf_idf = tf_idf_vect.transform(preprocessed_reviews)\n",
    "print(\"the type of count vectorizer \",type(final_tf_idf))\n",
    "print(\"the shape of out text TFIDF vectorizer \",final_tf_idf.get_shape())\n",
    "print(\"the number of unique words including both unigrams and bigrams \", final_tf_idf.get_shape()[1])"
   ]
  },
  {
   "cell_type": "markdown",
   "metadata": {
    "colab_type": "text",
    "id": "byKq27zkXM2-"
   },
   "source": [
    "## [4.4] Word2Vec"
   ]
  },
  {
   "cell_type": "code",
   "execution_count": 28,
   "metadata": {
    "colab": {},
    "colab_type": "code",
    "id": "cO2aF-hdXM2_"
   },
   "outputs": [],
   "source": [
    "# Train your own Word2Vec model using your own text corpus\n",
    "i=0\n",
    "list_of_sentance=[]\n",
    "for sentance in preprocessed_reviews:\n",
    "    list_of_sentance.append(sentance.split())"
   ]
  },
  {
   "cell_type": "code",
   "execution_count": 29,
   "metadata": {
    "colab": {
     "base_uri": "https://localhost:8080/",
     "height": 90
    },
    "colab_type": "code",
    "id": "326ewXGSXM3C",
    "outputId": "2c7d7718-3c0d-4ad3-fb6e-bd65dc89661a",
    "scrolled": true
   },
   "outputs": [
    {
     "name": "stdout",
     "output_type": "stream",
     "text": [
      "[('fantastic', 0.8393718600273132), ('good', 0.8257148265838623), ('terrific', 0.8198540210723877), ('awesome', 0.8162704706192017), ('excellent', 0.8123540878295898), ('perfect', 0.761262834072113), ('wonderful', 0.7519574761390686), ('amazing', 0.7083631753921509), ('fabulous', 0.6938498616218567), ('nice', 0.6927536725997925)]\n",
      "==================================================\n",
      "[('greatest', 0.7963016033172607), ('best', 0.7495831251144409), ('tastiest', 0.7336111068725586), ('nastiest', 0.6365067958831787), ('disgusting', 0.6236562132835388), ('smoothest', 0.6209513545036316), ('surpass', 0.6129302978515625), ('experienced', 0.5993017554283142), ('freshest', 0.5988056659698486), ('awful', 0.5945406556129456)]\n"
     ]
    }
   ],
   "source": [
    "# Using Google News Word2Vectors\n",
    "\n",
    "# in this project we are using a pretrained model by google\n",
    "# its 3.3G file, once you load this into your memory \n",
    "# it occupies ~9Gb, so please do this step only if you have >12G of ram\n",
    "# we will provide a pickle file wich contains a dict , \n",
    "# and it contains all our courpus words as keys and  model[word] as values\n",
    "# To use this code-snippet, download \"GoogleNews-vectors-negative300.bin\" \n",
    "# from https://drive.google.com/file/d/0B7XkCwpI5KDYNlNUTTlSS21pQmM/edit\n",
    "# it's 1.9GB in size.\n",
    "\n",
    "\n",
    "# http://kavita-ganesan.com/gensim-word2vec-tutorial-starter-code/#.W17SRFAzZPY\n",
    "# you can comment this whole cell\n",
    "# or change these varible according to your need\n",
    "\n",
    "is_your_ram_gt_16g=False\n",
    "want_to_use_google_w2v = False\n",
    "want_to_train_w2v = True\n",
    "\n",
    "if want_to_train_w2v:\n",
    "    # min_count = 5 considers only words that occured atleast 5 times\n",
    "    w2v_model=Word2Vec(list_of_sentance,min_count=5,size=50, workers=4)\n",
    "    print(w2v_model.wv.most_similar('great'))\n",
    "    print('='*50)\n",
    "    print(w2v_model.wv.most_similar('worst'))\n",
    "    \n",
    "elif want_to_use_google_w2v and is_your_ram_gt_16g:\n",
    "    if os.path.isfile('GoogleNews-vectors-negative300.bin'):\n",
    "        w2v_model=KeyedVectors.load_word2vec_format('GoogleNews-vectors-negative300.bin', binary=True)\n",
    "        print(w2v_model.wv.most_similar('great'))\n",
    "        print(w2v_model.wv.most_similar('worst'))\n",
    "    else:\n",
    "        print(\"you don't have gogole's word2vec file, keep want_to_train_w2v = True, to train your own w2v \")"
   ]
  },
  {
   "cell_type": "code",
   "execution_count": 30,
   "metadata": {
    "colab": {
     "base_uri": "https://localhost:8080/",
     "height": 72
    },
    "colab_type": "code",
    "id": "4P9uMvu0XM3F",
    "outputId": "d6f66d0c-8a8a-4530-e379-dae62d1d78ec"
   },
   "outputs": [
    {
     "name": "stdout",
     "output_type": "stream",
     "text": [
      "number of words that occured minimum 5 times  17386\n",
      "sample words  ['dogs', 'loves', 'chicken', 'product', 'china', 'wont', 'buying', 'anymore', 'hard', 'find', 'products', 'made', 'usa', 'one', 'isnt', 'bad', 'good', 'take', 'chances', 'till', 'know', 'going', 'imports', 'love', 'saw', 'pet', 'store', 'tag', 'attached', 'regarding', 'satisfied', 'safe', 'infestation', 'literally', 'everywhere', 'flying', 'around', 'kitchen', 'bought', 'hoping', 'least', 'get', 'rid', 'weeks', 'fly', 'stuck', 'squishing', 'buggers', 'success', 'rate']\n"
     ]
    }
   ],
   "source": [
    "w2v_words = list(w2v_model.wv.vocab)\n",
    "print(\"number of words that occured minimum 5 times \",len(w2v_words))\n",
    "print(\"sample words \", w2v_words[0:50])"
   ]
  },
  {
   "cell_type": "markdown",
   "metadata": {
    "colab_type": "text",
    "id": "gbic7DtXXM3I"
   },
   "source": [
    "## [4.4.1] Converting text into vectors using Avg W2V, TFIDF-W2V"
   ]
  },
  {
   "cell_type": "markdown",
   "metadata": {
    "colab_type": "text",
    "id": "36CJ6QmmXM3I"
   },
   "source": [
    "#### [4.4.1.1] Avg W2v"
   ]
  },
  {
   "cell_type": "code",
   "execution_count": 31,
   "metadata": {
    "colab": {
     "base_uri": "https://localhost:8080/",
     "height": 70
    },
    "colab_type": "code",
    "id": "1EIQB2qzXM3J",
    "outputId": "81850f6e-2478-4f45-ca22-2bdd6e82513d"
   },
   "outputs": [
    {
     "name": "stderr",
     "output_type": "stream",
     "text": [
      "100%|██████████| 87773/87773 [03:39<00:00, 400.68it/s]"
     ]
    },
    {
     "name": "stdout",
     "output_type": "stream",
     "text": [
      "87773\n",
      "50\n"
     ]
    },
    {
     "name": "stderr",
     "output_type": "stream",
     "text": [
      "\n"
     ]
    }
   ],
   "source": [
    "# average Word2Vec\n",
    "# compute average word2vec for each review.\n",
    "sent_vectors = []; # the avg-w2v for each sentence/review is stored in this list\n",
    "for sent in tqdm(list_of_sentance): # for each review/sentence\n",
    "    sent_vec = np.zeros(50) # as word vectors are of zero length 50, you might need to change this to 300 if you use google's w2v\n",
    "    cnt_words =0; # num of words with a valid vector in the sentence/review\n",
    "    for word in sent: # for each word in a review/sentence\n",
    "        if word in w2v_words:\n",
    "            vec = w2v_model.wv[word]\n",
    "            sent_vec += vec\n",
    "            cnt_words += 1\n",
    "    if cnt_words != 0:\n",
    "        sent_vec /= cnt_words\n",
    "    sent_vectors.append(sent_vec)\n",
    "print(len(sent_vectors))\n",
    "print(len(sent_vectors[0]))"
   ]
  },
  {
   "cell_type": "markdown",
   "metadata": {
    "colab_type": "text",
    "id": "cEqOIxKFXM3M"
   },
   "source": [
    "#### [4.4.1.2] TFIDF weighted W2v"
   ]
  },
  {
   "cell_type": "code",
   "execution_count": 32,
   "metadata": {
    "colab": {},
    "colab_type": "code",
    "id": "JBSEXdI8XM3N"
   },
   "outputs": [],
   "source": [
    "# S = [\"abc def pqr\", \"def def def abc\", \"pqr pqr def\"]\n",
    "model = TfidfVectorizer()\n",
    "tf_idf_matrix = model.fit_transform(preprocessed_reviews)\n",
    "# we are converting a dictionary with word as a key, and the idf as a value\n",
    "dictionary = dict(zip(model.get_feature_names(), list(model.idf_)))"
   ]
  },
  {
   "cell_type": "code",
   "execution_count": 33,
   "metadata": {
    "colab": {
     "base_uri": "https://localhost:8080/",
     "height": 34
    },
    "colab_type": "code",
    "id": "SZxZjbqVXM3Q",
    "outputId": "6c0d5e96-b733-4876-f42b-d964d0e96b8f",
    "scrolled": true
   },
   "outputs": [
    {
     "name": "stderr",
     "output_type": "stream",
     "text": [
      "100%|██████████| 87773/87773 [1:31:06<00:00, 16.06it/s]      \n"
     ]
    }
   ],
   "source": [
    "# TF-IDF weighted Word2Vec\n",
    "tfidf_feat = model.get_feature_names() # tfidf words/col-names\n",
    "# final_tf_idf is the sparse matrix with row= sentence, col=word and cell_val = tfidf\n",
    "\n",
    "tfidf_sent_vectors = []; # the tfidf-w2v for each sentence/review is stored in this list\n",
    "row=0;\n",
    "for sent in tqdm(list_of_sentance): # for each review/sentence \n",
    "    sent_vec = np.zeros(50) # as word vectors are of zero length\n",
    "    weight_sum =0; # num of words with a valid vector in the sentence/review\n",
    "    for word in sent: # for each word in a review/sentence\n",
    "        if word in w2v_words and word in tfidf_feat:\n",
    "            vec = w2v_model.wv[word]\n",
    "#             tf_idf = tf_idf_matrix[row, tfidf_feat.index(word)]\n",
    "            # to reduce the computation we are \n",
    "            # dictionary[word] = idf value of word in whole courpus\n",
    "            # sent.count(word) = tf valeus of word in this review\n",
    "            tf_idf = dictionary[word]*(sent.count(word)/len(sent))\n",
    "            sent_vec += (vec * tf_idf)\n",
    "            weight_sum += tf_idf\n",
    "    if weight_sum != 0:\n",
    "        sent_vec /= weight_sum\n",
    "    tfidf_sent_vectors.append(sent_vec)\n",
    "    row += 1"
   ]
  },
  {
   "cell_type": "markdown",
   "metadata": {
    "colab_type": "text",
    "id": "6a2EniNVXM3U"
   },
   "source": [
    "# [5] Assignment 7: SVM"
   ]
  },
  {
   "cell_type": "markdown",
   "metadata": {
    "colab_type": "text",
    "id": "bE8rvBu5XM3V"
   },
   "source": [
    "<ol>\n",
    "    <li><strong>Apply SVM on these feature sets</strong>\n",
    "        <ul>\n",
    "            <li><font color='red'>SET 1:</font>Review text, preprocessed one converted into vectors using (BOW)</li>\n",
    "            <li><font color='red'>SET 2:</font>Review text, preprocessed one converted into vectors using (TFIDF)</li>\n",
    "            <li><font color='red'>SET 3:</font>Review text, preprocessed one converted into vectors using (AVG W2v)</li>\n",
    "            <li><font color='red'>SET 4:</font>Review text, preprocessed one converted into vectors using (TFIDF W2v)</li>\n",
    "        </ul>\n",
    "    </li>\n",
    "    <br>\n",
    "    <li><strong>Procedure</strong>\n",
    "        <ul>\n",
    "    <li>You need to work with 2 versions of SVM\n",
    "        <ul><li>Linear kernel</li>\n",
    "            <li>RBF kernel</li></ul>\n",
    "    <li>When you are working with linear kernel, use SGDClassifier’ with hinge loss because it is computationally less expensive.</li>\n",
    "    <li>When you are working with ‘SGDClassifier’ with hinge loss and trying to find the AUC\n",
    "        score, you would have to use <a href='https://scikit-learn.org/stable/modules/generated/sklearn.calibration.CalibratedClassifierCV.html'>CalibratedClassifierCV</a></li>\n",
    "    <li>Similarly, like kdtree of knn, when you are working with RBF kernel it's better to reduce\n",
    "the number of dimensions. You can put min_df = 10, max_features = 500 and consider a sample size of 40k points.</li>                \n",
    "        </ul>\n",
    "    </li>\n",
    "    <br>\n",
    "    <li><strong>Hyper paramter tuning (find best alpha in range [10^-4 to 10^4], and the best penalty among 'l1', 'l2')</strong>\n",
    "        <ul>\n",
    "    <li>Find the best hyper parameter which will give the maximum <a href='https://www.appliedaicourse.com/course/applied-ai-course-online/lessons/receiver-operating-characteristic-curve-roc-curve-and-auc-1/'>AUC</a> value</li>\n",
    "    <li>Find the best hyper paramter using k-fold cross validation or simple cross validation data</li>\n",
    "    <li>Use gridsearch cv or randomsearch cv or you can also write your own for loops to do this task of hyperparameter tuning</li>          \n",
    "        </ul>\n",
    "    </li>\n",
    "    <br>\n",
    "    <li><strong>Feature importance</strong>\n",
    "        <ul>\n",
    "    <li>When you are working on the linear kernel with BOW or TFIDF please print the top 10 best\n",
    "features for each of the positive and negative classes.</li>\n",
    "        </ul>\n",
    "    </li>\n",
    "    <br>\n",
    "    <li><strong>Feature engineering</strong>\n",
    "        <ul>\n",
    "    <li>To increase the performance of your model, you can also experiment with with feature engineering like :</li>\n",
    "            <ul>\n",
    "            <li>Taking length of reviews as another feature.</li>\n",
    "            <li>Considering some features from review summary as well.</li>\n",
    "        </ul>\n",
    "        </ul>\n",
    "    </li>\n",
    "    <br>\n",
    "    <li><strong>Representation of results</strong>\n",
    "        <ul>\n",
    "    <li>You need to plot the performance of model both on train data and cross validation data for each hyper parameter, like shown in the figure.\n",
    "    <img src='train_cv_auc.JPG' width=300px></li>\n",
    "    <li>Once after you found the best hyper parameter, you need to train your model with it, and find the AUC on test data and plot the ROC curve on both train and test.\n",
    "    <img src='train_test_auc.JPG' width=300px></li>\n",
    "    <li>Along with plotting ROC curve, you need to print the <a href='https://www.appliedaicourse.com/course/applied-ai-course-online/lessons/confusion-matrix-tpr-fpr-fnr-tnr-1/'>confusion matrix</a> with predicted and original labels of test data points. Please visualize your confusion matrices using <a href='https://seaborn.pydata.org/generated/seaborn.heatmap.html'>seaborn heatmaps.\n",
    "    <img src='confusion_matrix.png' width=300px></li>\n",
    "        </ul>\n",
    "    </li>\n",
    "    <br>\n",
    "    <li><strong>Conclusion</strong>\n",
    "        <ul>\n",
    "    <li>You need to summarize the results at the end of the notebook, summarize it in the table format. To print out a table please refer to this prettytable library<a href='http://zetcode.com/python/prettytable/'>  link</a> \n",
    "        <img src='summary.JPG' width=400px>\n",
    "    </li>\n",
    "        </ul>\n",
    "</ol>"
   ]
  },
  {
   "cell_type": "markdown",
   "metadata": {
    "colab_type": "text",
    "id": "o9uyIIPaXM3W"
   },
   "source": [
    "<h4><font color='red'>Note: Data Leakage</font></h4>\n",
    "\n",
    "1. There will be an issue of data-leakage if you vectorize the entire data and then split it into train/cv/test.\n",
    "2. To avoid the issue of data-leakag, make sure to split your data first and then vectorize it. \n",
    "3. While vectorizing your data, apply the method fit_transform() on you train data, and apply the method transform() on cv/test data.\n",
    "4. For more details please go through this <a href='https://soundcloud.com/applied-ai-course/leakage-bow-and-tfidf'>link.</a>"
   ]
  },
  {
   "cell_type": "markdown",
   "metadata": {
    "colab_type": "text",
    "id": "W25jaGtXXM3W"
   },
   "source": [
    "# Applying SVM"
   ]
  },
  {
   "cell_type": "markdown",
   "metadata": {
    "colab_type": "text",
    "id": "uIaZcbTQXM3Y"
   },
   "source": [
    "## [5.1] Linear SVM"
   ]
  },
  {
   "cell_type": "markdown",
   "metadata": {
    "colab_type": "text",
    "id": "MlbHwg84XM3Z"
   },
   "source": [
    "### [5.1.1] Applying Linear SVM on BOW,<font color='red'> SET 1</font>"
   ]
  },
  {
   "cell_type": "code",
   "execution_count": 35,
   "metadata": {
    "colab": {
     "base_uri": "https://localhost:8080/",
     "height": 212
    },
    "colab_type": "code",
    "id": "ablX-80mXM3Z",
    "outputId": "ab9ce1a6-9c0b-463d-f120-471ff0aa454f"
   },
   "outputs": [
    {
     "data": {
      "image/png": "[encoded data removed]",
      "text/plain": [
       "<Figure size 432x288 with 1 Axes>"
      ]
     },
     "metadata": {
      "needs_background": "light"
     },
     "output_type": "display_data"
    },
    {
     "data": {
      "image/png": "[encoded data removed]",
      "text/plain": [
       "<Figure size 432x288 with 1 Axes>"
      ]
     },
     "metadata": {
      "needs_background": "light"
     },
     "output_type": "display_data"
    },
    {
     "name": "stdout",
     "output_type": "stream",
     "text": [
      "\n",
      "The number of cross-validation splits are 3\n",
      "The best penalty to be used is l2\n",
      "The best alpha to be used is 0.1\n",
      "score achieved is 89.05470404989637\n"
     ]
    }
   ],
   "source": [
    "# Please write all the code with proper documentation\n",
    "import numpy as np\n",
    "import pandas as pd\n",
    "import matplotlib.pyplot as plt\n",
    "from sklearn.metrics import roc_curve, auc\n",
    "\n",
    "a=preprocessed_reviews\n",
    "b=np.array(final['Score'])\n",
    "vectorizer=CountVectorizer()\n",
    "\n",
    "#https://medium.com/@contactsunny/how-to-split-your-dataset-to-train-and-test-datasets-using-scikit-learn-e7cf6eb5e0d\n",
    "#https://scikit-learn.org/stable/modules/generated/sklearn.model_selection.train_test_split.html\n",
    "#used above references for train,text and cv splitting\n",
    "\n",
    "from sklearn.model_selection import train_test_split\n",
    "x, xTest, y, yTest = train_test_split(a,b, test_size = 0.3,random_state=4)\n",
    "xTrain, x_cv, yTrain, y_cv= train_test_split(x, y, test_size =0.3)\n",
    "\n",
    "#https://datascience.stackexchange.com/questions/12321/difference-between-fit-and-fit-transform-in-scikit-learn-models\n",
    "#the above link is been used to clarify whether to use .fit() or .fit_transform().I am using fit_transform() on train data and transform() on cv and test data\n",
    "\n",
    "xTrain2=vectorizer.fit_transform(xTrain)\n",
    "x_cv2=vectorizer.transform(x_cv)\n",
    "xTest2=vectorizer.transform(xTest)\n",
    "\n",
    "#coloum standardization\n",
    "from sklearn.preprocessing import StandardScaler\n",
    "ss=StandardScaler(with_mean=False)\n",
    "xTrain3=ss.fit_transform(xTrain2)\n",
    "x_cv3=ss.transform(x_cv2)\n",
    "x_Test3=ss.transform(xTest2)\n",
    "\n",
    "#Linear svc with BOW \n",
    "from sklearn.linear_model import SGDClassifier\n",
    "\n",
    "\n",
    "\n",
    "#gridsearch\n",
    "l_svc=SGDClassifier(loss='hinge')\n",
    "from sklearn.model_selection import GridSearchCV\n",
    "alpa=[10**-4, 10**-3,10**-2,10**-1,1,10,100,1000,10000]\n",
    "param_grid=[{'alpha':alpa,'penalty':['l2','l1']}]\n",
    "gs=GridSearchCV(l_svc,param_grid,scoring='roc_auc',return_train_score=True)\n",
    "gs.fit(xTrain3,yTrain)\n",
    "results=gs.cv_results_\n",
    "\n",
    "import math\n",
    "params=results['params']\n",
    "\n",
    "cv_score=results['mean_test_score']\n",
    "train_score=results['mean_train_score']\n",
    "\n",
    "cv_std=results['std_test_score']\n",
    "train_std=results['std_train_score']\n",
    "\n",
    "#alpha and score\n",
    "cv_score_l1=[]\n",
    "cv_score_l2=[]\n",
    "train_score_l1=[]\n",
    "train_score_l2=[]\n",
    "\n",
    "\n",
    "for i in range(len(params)):\n",
    "    if params[i]['penalty']=='l1':\n",
    "        cv_score_l1.append(cv_score[i]) \n",
    "        train_score_l1.append(train_score[i])\n",
    "    else:\n",
    "        cv_score_l2.append(cv_score[i])\n",
    "        train_score_l2.append(train_score[i])\n",
    "\n",
    "\n",
    "\n",
    "for j in range(len(alpa)):\n",
    "    alpa[j]=math.log(alpa[j])\n",
    "#plot l1\n",
    "plt.plot(alpa,train_score_l1,label='Train AUC')\n",
    "plt.plot(alpa,cv_score_l1,label='CV AUC')\n",
    "plt.legend()\n",
    "plt.title('AUV VS ALPHA WITH L1 REGULARIZATION')\n",
    "plt.xlabel(\"alpha: hyperparameter\")\n",
    "plt.ylabel(\"score\")\n",
    "plt.show()\n",
    "\n",
    "#plot l2\n",
    "plt.plot(alpa,train_score_l2,label='Train AUC')\n",
    "plt.plot(alpa,cv_score_l2, label='CV AUC')\n",
    "plt.legend()\n",
    "plt.title('AUV VS ALPHA WITH L2 REGULARIZATION')\n",
    "plt.xlabel(\"alpha: hyperparameter\")\n",
    "plt.ylabel(\"score\")\n",
    "plt.show()\n",
    "\n",
    "best=gs.best_params_\n",
    "best_alpha=best['alpha']\n",
    "best_penalty=best['penalty']\n",
    "best_fold=gs.n_splits_\n",
    "print()\n",
    "print('The number of cross-validation splits are '+str(best_fold))\n",
    "print('The best penalty to be used is '+str(best_penalty))\n",
    "print('The best alpha to be used is '+str(best_alpha))\n",
    "print('score achieved is '+str(gs.best_score_*100))\n",
    "\n"
   ]
  },
  {
   "cell_type": "code",
   "execution_count": 36,
   "metadata": {
    "colab": {
     "base_uri": "https://localhost:8080/",
     "height": 330
    },
    "colab_type": "code",
    "id": "Y10MyUJxd4qI",
    "outputId": "5aff339d-b24d-484d-fca6-2b571c022eb0"
   },
   "outputs": [
    {
     "name": "stdout",
     "output_type": "stream",
     "text": [
      "(43008, 39087)\n",
      "(26332, 39087)\n"
     ]
    },
    {
     "data": {
      "image/png": "[encoded data removed]",
      "text/plain": [
       "<Figure size 432x288 with 1 Axes>"
      ]
     },
     "metadata": {
      "needs_background": "light"
     },
     "output_type": "display_data"
    }
   ],
   "source": [
    "#Linear svc with BOW \n",
    "from sklearn.calibration import CalibratedClassifierCV\n",
    "from sklearn.linear_model import SGDClassifier\n",
    "lsvc=SGDClassifier(alpha=best_alpha,loss='hinge',penalty=best_penalty)\n",
    "clfr=lsvc.fit(xTrain3,yTrain)\n",
    "calibrator = CalibratedClassifierCV(clfr, cv=best_fold)\n",
    "l_svc=calibrator.fit(xTrain3, yTrain)\n",
    "\n",
    "print(xTrain3.shape)\n",
    "print(x_Test3.shape)\n",
    "\n",
    "#auc\n",
    "#https://machinelearningmastery.com/roc-curves-and-precision-recall-curves-for-classification-in-python/\n",
    "pred_Train=l_svc.predict_proba(xTrain3)[:,1]\n",
    "fpr, tpr, t = metrics.roc_curve(yTrain, pred_Train)\n",
    "pred_Test=l_svc.predict_proba(x_Test3)[:,1]\n",
    "fpr1, tpr1, t1 = metrics.roc_curve(yTest, pred_Test)\n",
    "\n",
    "from sklearn.metrics import roc_auc_score\n",
    "plt.plot(fpr,tpr, label='Train AUC,auc='+str(roc_auc_score(yTrain,pred_Train)))\n",
    "plt.plot(fpr1,tpr1, label='Test AUC,auc='+str(roc_auc_score(yTest,pred_Test)))\n",
    "plt.title('ROC')\n",
    "plt.xlabel('FPR')\n",
    "plt.ylabel('TPR')\n",
    "plt.legend()\n",
    "plt.show()"
   ]
  },
  {
   "cell_type": "code",
   "execution_count": 37,
   "metadata": {
    "colab": {
     "base_uri": "https://localhost:8080/",
     "height": 294
    },
    "colab_type": "code",
    "id": "lnuAXVFa9a58",
    "outputId": "48bc5498-ed1e-468c-b3b4-124183af0655"
   },
   "outputs": [
    {
     "data": {
      "image/png": "[encoded data removed]",
      "text/plain": [
       "<Figure size 432x288 with 2 Axes>"
      ]
     },
     "metadata": {
      "needs_background": "light"
     },
     "output_type": "display_data"
    }
   ],
   "source": [
    "\n",
    "#confusion matrix for train data\n",
    "import seaborn as sn\n",
    "import pandas as pd\n",
    "import matplotlib.pyplot as plt\n",
    "from sklearn.metrics import confusion_matrix\n",
    "acc3=l_svc.predict(xTrain3)\n",
    "#https://stackoverflow.com/questions/35572000/how-can-i-plot-a-confusion-matrix       \n",
    "import seaborn as sns\n",
    "fig= confusion_matrix(yTrain,acc3)\n",
    "labels= [\"negative\", \"positive\"]\n",
    "data= pd.DataFrame(fig, index = labels,columns = labels)\n",
    "sns.heatmap(data,annot=True,fmt=\"d\")\n",
    "plt.title(\"Confusion Matrix\")\n",
    "plt.xlabel(\"Predicted values\")\n",
    "plt.ylabel(\"True values\")\n",
    "plt.show()"
   ]
  },
  {
   "cell_type": "code",
   "execution_count": 38,
   "metadata": {
    "colab": {
     "base_uri": "https://localhost:8080/",
     "height": 294
    },
    "colab_type": "code",
    "id": "tGNd548n-Nou",
    "outputId": "c6f15ad3-f38b-4261-9d71-8eae18f4dec3"
   },
   "outputs": [
    {
     "data": {
      "image/png": "[encoded data removed]",
      "text/plain": [
       "<Figure size 432x288 with 2 Axes>"
      ]
     },
     "metadata": {
      "needs_background": "light"
     },
     "output_type": "display_data"
    }
   ],
   "source": [
    "#confusion matrix for test data\n",
    "import seaborn as sn\n",
    "import pandas as pd\n",
    "import matplotlib.pyplot as plt\n",
    "from sklearn.metrics import confusion_matrix\n",
    "acc3=l_svc.predict(x_Test3)\n",
    "#https://stackoverflow.com/questions/35572000/how-can-i-plot-a-confusion-matrix       \n",
    "import seaborn as sns\n",
    "fig= confusion_matrix(yTest,acc3)\n",
    "labels= [\"negative\", \"positive\"]\n",
    "data= pd.DataFrame(fig, index = labels,columns = labels)\n",
    "sns.heatmap(data,annot=True,fmt=\"d\")\n",
    "plt.title(\"Confusion Matrix\")\n",
    "plt.xlabel(\"Predicted values\")\n",
    "plt.ylabel(\"True values\")\n",
    "plt.show()"
   ]
  },
  {
   "cell_type": "code",
   "execution_count": 39,
   "metadata": {
    "colab": {
     "base_uri": "https://localhost:8080/",
     "height": 105
    },
    "colab_type": "code",
    "id": "pXXO9kqwBGJq",
    "outputId": "120771f6-bc61-4c4e-9fe3-f181c9eb59ee"
   },
   "outputs": [
    {
     "name": "stdout",
     "output_type": "stream",
     "text": [
      "Top 10 positive featues are\n",
      "['great', 'good', 'best', 'love', 'delicious', 'loves', 'excellent', 'perfect', 'favorite', 'wonderful']\n",
      "----------------------------------------------------------------------------------------------------\n",
      "Top 10 negative featues are\n",
      "['not', 'disappointed', 'worst', 'horrible', 'terrible', 'awful', 'disappointing', 'unfortunately', 'money', 'thought']\n"
     ]
    }
   ],
   "source": [
    "coef = lsvc.coef_\n",
    "feat=vectorizer.get_feature_names()\n",
    "top_positive_coefficients = list(np.argsort(coef))\n",
    "top_positive_features=[feat[i] for i in top_positive_coefficients[0][::-1]]\n",
    "print('Top 10 positive featues are')\n",
    "print(top_positive_features[:10:])\n",
    "print('-'*100)\n",
    "top_negative_coefficients = list(np.argsort(coef)[:10])\n",
    "top_negative_features=[feat[i] for i in top_negative_coefficients[0]]\n",
    "print('Top 10 negative featues are')\n",
    "print(top_negative_features[:10:])"
   ]
  },
  {
   "cell_type": "markdown",
   "metadata": {
    "colab_type": "text",
    "id": "0ciEofC4XM3c"
   },
   "source": [
    "### [5.1.2] Applying Linear SVM on TFIDF,<font color='red'> SET 2</font>"
   ]
  },
  {
   "cell_type": "code",
   "execution_count": 42,
   "metadata": {
    "colab": {},
    "colab_type": "code",
    "id": "-uvRcXqqXM3d"
   },
   "outputs": [],
   "source": [
    "# Please write all the code with proper documentation"
   ]
  },
  {
   "cell_type": "code",
   "execution_count": 43,
   "metadata": {
    "colab": {
     "base_uri": "https://localhost:8080/",
     "height": 212
    },
    "colab_type": "code",
    "id": "ZsZiSqqeMzD3",
    "outputId": "283701a1-a571-413c-bba4-501534fb20fa"
   },
   "outputs": [
    {
     "name": "stdout",
     "output_type": "stream",
     "text": [
      "0.6524798036444089\n",
      "0.6144499805769246\n"
     ]
    },
    {
     "data": {
      "image/png": "[encoded data removed]",
      "text/plain": [
       "<Figure size 432x288 with 1 Axes>"
      ]
     },
     "metadata": {
      "needs_background": "light"
     },
     "output_type": "display_data"
    },
    {
     "data": {
      "image/png": "[encoded data removed]",
      "text/plain": [
       "<Figure size 432x288 with 1 Axes>"
      ]
     },
     "metadata": {
      "needs_background": "light"
     },
     "output_type": "display_data"
    },
    {
     "name": "stdout",
     "output_type": "stream",
     "text": [
      "\n",
      "The number of cross-validation splits are 3\n",
      "The best penalty to be used is l2\n",
      "The best alpha to be used is 1\n",
      "score achieved is 90.17356057328908\n"
     ]
    }
   ],
   "source": [
    "# Please write all the code with proper documentation\n",
    "import numpy as np\n",
    "import pandas as pd\n",
    "import matplotlib.pyplot as plt\n",
    "\n",
    "a=preprocessed_reviews\n",
    "b=np.array(final['Score'])\n",
    "vectorizer=TfidfVectorizer()\n",
    "\n",
    "#https://medium.com/@contactsunny/how-to-split-your-dataset-to-train-and-test-datasets-using-scikit-learn-e7cf6eb5e0d\n",
    "#https://scikit-learn.org/stable/modules/generated/sklearn.model_selection.train_test_split.html\n",
    "#used above references for train,text and cv splitting\n",
    "\n",
    "from sklearn.model_selection import train_test_split\n",
    "x, xTest, y, yTest = train_test_split(a,b, test_size = 0.3,random_state=4)\n",
    "xTrain, x_cv, yTrain, y_cv= train_test_split(x, y, test_size =0.3)\n",
    "\n",
    "#https://datascience.stackexchange.com/questions/12321/difference-between-fit-and-fit-transform-in-scikit-learn-models\n",
    "#the above link is been used to clarify whether to use .fit() or .fit_transform().I am using fit_transform() on train data and transform() on cv and test data\n",
    "\n",
    "xTrain2=vectorizer.fit_transform(xTrain)\n",
    "x_cv2=vectorizer.transform(x_cv)\n",
    "xTest2=vectorizer.transform(xTest)\n",
    "\n",
    "#coloum standardization\n",
    "from sklearn.preprocessing import StandardScaler\n",
    "ss=StandardScaler(with_mean=False)\n",
    "xTrain3=ss.fit_transform(xTrain2)\n",
    "x_cv3=ss.transform(x_cv2)\n",
    "x_Test3=ss.transform(xTest2)\n",
    "\n",
    "#Linear svc with tfidf \n",
    "from sklearn.linear_model import SGDClassifier\n",
    "l_svc=SGDClassifier(loss='hinge')\n",
    "\n",
    "\n",
    "#gridsearch\n",
    "l_svc=SGDClassifier(loss='hinge')\n",
    "from sklearn.model_selection import GridSearchCV\n",
    "alpa=[10**-4, 10**-3,10**-2,10**-1,1,10,100,1000,10000]\n",
    "param_grid=[{'alpha':alpa,'penalty':['l2','l1']}]\n",
    "gs=GridSearchCV(l_svc,param_grid,scoring='roc_auc',return_train_score=True)\n",
    "gs.fit(xTrain3,yTrain)\n",
    "results=gs.cv_results_\n",
    "\n",
    "import math\n",
    "params=results['params']\n",
    "\n",
    "cv_score=results['mean_test_score']\n",
    "train_score=results['mean_train_score']\n",
    "\n",
    "cv_std=results['std_test_score']\n",
    "train_std=results['std_train_score']\n",
    "\n",
    "#alpha and score\n",
    "cv_score_l1=[]\n",
    "cv_score_l2=[]\n",
    "train_score_l1=[]\n",
    "train_score_l2=[]\n",
    "\n",
    "\n",
    "for i in range(len(params)):\n",
    "    if params[i]['penalty']=='l1':\n",
    "        cv_score_l1.append(cv_score[i]) \n",
    "        train_score_l1.append(train_score[i])\n",
    "    else:\n",
    "        cv_score_l2.append(cv_score[i])\n",
    "        train_score_l2.append(train_score[i])\n",
    "\n",
    "print(sum(train_score_l1)/len(train_score_l1))\n",
    "print(sum(cv_score_l1)/len(cv_score_l1))\n",
    "\n",
    "for j in range(len(alpa)):\n",
    "    alpa[j]=math.log(alpa[j])\n",
    "#plot l1\n",
    "plt.plot(alpa,train_score_l1,label='Train AUC')\n",
    "plt.plot(alpa,cv_score_l1,label='CV AUC')\n",
    "plt.legend()\n",
    "plt.title('AUV VS ALPHA WITH L1 REGULARIZATION')\n",
    "plt.xlabel(\"alpha: hyperparameter\")\n",
    "plt.ylabel(\"score\")\n",
    "plt.show()\n",
    "\n",
    "#plot l2\n",
    "plt.plot(alpa,train_score_l2,label='Train AUC')\n",
    "plt.plot(alpa,cv_score_l2, label='CV AUC')\n",
    "plt.legend()\n",
    "plt.title('AUV VS ALPHA WITH L2 REGULARIZATION')\n",
    "plt.xlabel(\"alpha: hyperparameter\")\n",
    "plt.ylabel(\"score\")\n",
    "plt.show()\n",
    "\n",
    "\n",
    "best=gs.best_params_\n",
    "best_alpha=best['alpha']\n",
    "best_penalty=best['penalty']\n",
    "best_fold=gs.n_splits_\n",
    "print()\n",
    "print('The number of cross-validation splits are '+str(best_fold))\n",
    "print('The best penalty to be used is '+str(best_penalty))\n",
    "print('The best alpha to be used is '+str(best_alpha))\n",
    "print('score achieved is '+str(gs.best_score_*100))\n",
    "\n"
   ]
  },
  {
   "cell_type": "code",
   "execution_count": 44,
   "metadata": {
    "colab": {
     "base_uri": "https://localhost:8080/",
     "height": 330
    },
    "colab_type": "code",
    "id": "l0QS8rR8MzEE",
    "outputId": "e665db21-49e1-46f5-b1cd-2c03f6e6e92f"
   },
   "outputs": [
    {
     "name": "stdout",
     "output_type": "stream",
     "text": [
      "(43008, 39147)\n",
      "(26332, 39147)\n"
     ]
    },
    {
     "data": {
      "image/png": "[encoded data removed]",
      "text/plain": [
       "<Figure size 432x288 with 1 Axes>"
      ]
     },
     "metadata": {
      "needs_background": "light"
     },
     "output_type": "display_data"
    }
   ],
   "source": [
    " \n",
    "from sklearn.linear_model import SGDClassifier\n",
    "lsvc=SGDClassifier(alpha=best_alpha,loss='hinge',penalty=best_penalty)\n",
    "clfr=lsvc.fit(xTrain3,yTrain)\n",
    "calibrator = CalibratedClassifierCV(clfr, cv=best_fold)\n",
    "l_svc=calibrator.fit(xTrain3, yTrain)\n",
    "\n",
    "print(xTrain3.shape)\n",
    "print(x_Test3.shape)\n",
    "\n",
    "#auc\n",
    "#https://machinelearningmastery.com/roc-curves-and-precision-recall-curves-for-classification-in-python/\n",
    "\n",
    "pred_Train=l_svc.predict_proba(xTrain3)[:,1]\n",
    "fpr, tpr, t = metrics.roc_curve(yTrain, pred_Train)\n",
    "pred_Test=l_svc.predict_proba(x_Test3)[:,1]\n",
    "fpr1, tpr1, t1 = metrics.roc_curve(yTest, pred_Test)\n",
    "\n",
    "from sklearn.metrics import roc_auc_score\n",
    "plt.plot(fpr,tpr, label='Train AUC,auc='+str(roc_auc_score(yTrain,pred_Train)))\n",
    "plt.plot(fpr1,tpr1, label='Test AUC,auc='+str(roc_auc_score(yTest,pred_Test)))\n",
    "plt.title('ROC')\n",
    "plt.xlabel('FPR')\n",
    "plt.ylabel('TPR')\n",
    "plt.legend()\n",
    "plt.show()"
   ]
  },
  {
   "cell_type": "code",
   "execution_count": 45,
   "metadata": {
    "colab": {
     "base_uri": "https://localhost:8080/",
     "height": 294
    },
    "colab_type": "code",
    "id": "t4XiAVcaMzEI",
    "outputId": "8800bee4-ebdc-43c6-abef-3614b4f80146"
   },
   "outputs": [
    {
     "data": {
      "image/png": "[encoded data removed]",
      "text/plain": [
       "<Figure size 432x288 with 2 Axes>"
      ]
     },
     "metadata": {
      "needs_background": "light"
     },
     "output_type": "display_data"
    }
   ],
   "source": [
    "\n",
    "#confusion matrix for train data\n",
    "import seaborn as sn\n",
    "import pandas as pd\n",
    "import matplotlib.pyplot as plt\n",
    "from sklearn.metrics import confusion_matrix\n",
    "acc3=l_svc.predict(xTrain3)\n",
    "#https://stackoverflow.com/questions/35572000/how-can-i-plot-a-confusion-matrix       \n",
    "import seaborn as sns\n",
    "fig= confusion_matrix(yTrain,acc3)\n",
    "labels= [\"negative\", \"positive\"]\n",
    "data= pd.DataFrame(fig, index = labels,columns = labels)\n",
    "sns.heatmap(data,annot=True,fmt=\"d\")\n",
    "plt.title(\"Confusion Matrix\")\n",
    "plt.xlabel(\"Predicted values\")\n",
    "plt.ylabel(\"True values\")\n",
    "plt.show()"
   ]
  },
  {
   "cell_type": "code",
   "execution_count": 46,
   "metadata": {
    "colab": {
     "base_uri": "https://localhost:8080/",
     "height": 294
    },
    "colab_type": "code",
    "id": "pNsMSCCWMzEM",
    "outputId": "bb7b700c-2cc1-4d30-e3f9-03cff1258a07"
   },
   "outputs": [
    {
     "data": {
      "image/png": "[encoded data removed]",
      "text/plain": [
       "<Figure size 432x288 with 2 Axes>"
      ]
     },
     "metadata": {
      "needs_background": "light"
     },
     "output_type": "display_data"
    }
   ],
   "source": [
    "#confusion matrix for test data\n",
    "import seaborn as sn\n",
    "import pandas as pd\n",
    "import matplotlib.pyplot as plt\n",
    "from sklearn.metrics import confusion_matrix\n",
    "acc3=l_svc.predict(x_Test3)\n",
    "#https://stackoverflow.com/questions/35572000/how-can-i-plot-a-confusion-matrix       \n",
    "import seaborn as sns\n",
    "fig= confusion_matrix(yTest,acc3)\n",
    "labels= [\"negative\", \"positive\"]\n",
    "data= pd.DataFrame(fig, index = labels,columns = labels)\n",
    "sns.heatmap(data,annot=True,fmt=\"d\")\n",
    "plt.title(\"Confusion Matrix\")\n",
    "plt.xlabel(\"Predicted values\")\n",
    "plt.ylabel(\"True values\")\n",
    "plt.show()"
   ]
  },
  {
   "cell_type": "code",
   "execution_count": 47,
   "metadata": {
    "colab": {
     "base_uri": "https://localhost:8080/",
     "height": 105
    },
    "colab_type": "code",
    "id": "7PoYguAIMzEP",
    "outputId": "ae8cf720-dfde-47b3-91cc-69f2cdd89bb2"
   },
   "outputs": [
    {
     "name": "stdout",
     "output_type": "stream",
     "text": [
      "Top 10 positive featues are\n",
      "['great', 'good', 'love', 'best', 'delicious', 'loves', 'favorite', 'excellent', 'nice', 'wonderful']\n",
      "----------------------------------------------------------------------------------------------------\n",
      "Top 10 negative featues are\n",
      "['worst', 'horrible', 'awful', 'terrible', 'disappointing', 'waste', 'disappointed', 'threw', 'return', 'refund']\n"
     ]
    }
   ],
   "source": [
    "coef = lsvc.coef_\n",
    "feat=vectorizer.get_feature_names()\n",
    "top_positive_coefficients = list(np.argsort(coef))\n",
    "top_positive_features=[feat[i] for i in top_positive_coefficients[0][::-1]]\n",
    "print('Top 10 positive featues are')\n",
    "print(top_positive_features[:10:])\n",
    "print('-'*100)\n",
    "top_negative_coefficients = list(np.argsort(coef)[:10])\n",
    "top_negative_features=[feat[i] for i in top_negative_coefficients[0]]\n",
    "print('Top 10 negative featues are')\n",
    "print(top_negative_features[:10:])"
   ]
  },
  {
   "cell_type": "markdown",
   "metadata": {
    "colab_type": "text",
    "id": "jf9Lbk0uXM3g"
   },
   "source": [
    "### [5.1.3]  Applying Linear SVM on AVG W2V,<font color='red'> SET 3</font>"
   ]
  },
  {
   "cell_type": "code",
   "execution_count": 48,
   "metadata": {
    "colab": {
     "base_uri": "https://localhost:8080/",
     "height": 105
    },
    "colab_type": "code",
    "id": "bL5L5GQtQIHD",
    "outputId": "bf8b6c29-c973-4117-a06f-00d82786dd76"
   },
   "outputs": [
    {
     "name": "stderr",
     "output_type": "stream",
     "text": [
      "100%|██████████| 43008/43008 [01:00<00:00, 711.76it/s]\n",
      "  1%|          | 131/18433 [00:00<00:28, 645.76it/s]"
     ]
    },
    {
     "name": "stdout",
     "output_type": "stream",
     "text": [
      "43008\n"
     ]
    },
    {
     "name": "stderr",
     "output_type": "stream",
     "text": [
      "100%|██████████| 18433/18433 [00:25<00:00, 717.66it/s]\n",
      "  0%|          | 55/26332 [00:00<00:48, 542.64it/s]"
     ]
    },
    {
     "name": "stdout",
     "output_type": "stream",
     "text": [
      "18433\n"
     ]
    },
    {
     "name": "stderr",
     "output_type": "stream",
     "text": [
      "100%|██████████| 26332/26332 [00:37<00:00, 709.74it/s]\n"
     ]
    }
   ],
   "source": [
    "#this code is used from Assignment_sample_solution.ipynb provided in the google classroom\n",
    "list_of_sentance_train=[]\n",
    "for sentance in xTrain:\n",
    "    list_of_sentance_train.append(sentance.split())\n",
    "\n",
    "w2v_model=Word2Vec(list_of_sentance_train,min_count=5,size=50, workers=4)\n",
    "w2v_words = list(w2v_model.wv.vocab)\n",
    "\n",
    "sent_vectors_train = [];\n",
    "for sent in tqdm(list_of_sentance_train):\n",
    "    sent_vec = np.zeros(50) \n",
    "    cnt_words =0; \n",
    "    for word in sent: \n",
    "        if word in w2v_words:\n",
    "            vec = w2v_model.wv[word]\n",
    "            sent_vec += vec\n",
    "            cnt_words += 1\n",
    "    if cnt_words != 0:\n",
    "        sent_vec /= cnt_words\n",
    "    sent_vectors_train.append(sent_vec)\n",
    "sent_vectors_train = np.array(sent_vectors_train)\n",
    "print(len(sent_vectors_train))\n",
    "#print(sent_vectors_train[0])\n",
    "\n",
    "list_of_sentance_cv=[]\n",
    "for sentance in x_cv:\n",
    "    list_of_sentance_cv.append(sentance.split())\n",
    "    \n",
    "sent_vectors_cv= [];\n",
    "for sent in tqdm(list_of_sentance_cv):\n",
    "    sent_vec = np.zeros(50) \n",
    "    cnt_words =0; \n",
    "    for word in sent: \n",
    "        if word in w2v_words:\n",
    "            vec = w2v_model.wv[word]\n",
    "            sent_vec += vec\n",
    "            cnt_words += 1\n",
    "    if cnt_words != 0:\n",
    "        sent_vec /= cnt_words\n",
    "    sent_vectors_cv.append(sent_vec)\n",
    "sent_vectors_cv = np.array(sent_vectors_cv)\n",
    "print(len(sent_vectors_cv))\n",
    "#print(sent_vectors_cv[0])\n",
    "\n",
    "list_of_sentance_test=[]\n",
    "for sentance in xTest:\n",
    "    list_of_sentance_test.append(sentance.split())\n",
    "\n",
    "sent_vectors_test= [];\n",
    "for sent in tqdm(list_of_sentance_test):\n",
    "    sent_vec = np.zeros(50) \n",
    "    cnt_words =0; \n",
    "    for word in sent: \n",
    "        if word in w2v_words:\n",
    "            vec = w2v_model.wv[word]\n",
    "            sent_vec += vec\n",
    "            cnt_words += 1\n",
    "    if cnt_words != 0:\n",
    "        sent_vec /= cnt_words\n",
    "    sent_vectors_test.append(sent_vec)\n",
    "sent_vectors_test = np.array(sent_vectors_test)\n",
    "\n"
   ]
  },
  {
   "cell_type": "code",
   "execution_count": 49,
   "metadata": {
    "colab": {
     "base_uri": "https://localhost:8080/",
     "height": 212
    },
    "colab_type": "code",
    "id": "CIa8UAsmN5sp",
    "outputId": "338504ba-2c88-4f95-acb0-de9515e528f3"
   },
   "outputs": [
    {
     "data": {
      "image/png": "[encoded data removed]",
      "text/plain": [
       "<Figure size 432x288 with 1 Axes>"
      ]
     },
     "metadata": {
      "needs_background": "light"
     },
     "output_type": "display_data"
    },
    {
     "data": {
      "image/png": "[encoded data removed]",
      "text/plain": [
       "<Figure size 432x288 with 1 Axes>"
      ]
     },
     "metadata": {
      "needs_background": "light"
     },
     "output_type": "display_data"
    },
    {
     "name": "stdout",
     "output_type": "stream",
     "text": [
      "\n",
      "The number of cross-validation splits are 3\n",
      "The best penalty to be used is l1\n",
      "The best alpha to be used is 0.001\n",
      "score achieved is 89.419259781482\n"
     ]
    }
   ],
   "source": [
    "xTrain3=sent_vectors_train\n",
    "x_cv3=sent_vectors_cv\n",
    "x_Test3=sent_vectors_test\n",
    "\n",
    "#gridsearch\n",
    "l_svc=SGDClassifier(loss='hinge')\n",
    "from sklearn.model_selection import GridSearchCV\n",
    "alpa=[10**-4, 10**-3,10**-2,10**-1,1,10,100,1000,10000]\n",
    "param_grid=[{'alpha':alpa,'penalty':['l2','l1']}]\n",
    "gs=GridSearchCV(l_svc,param_grid,scoring='roc_auc',return_train_score=True)\n",
    "gs.fit(xTrain3,yTrain)\n",
    "results=gs.cv_results_\n",
    "\n",
    "import math\n",
    "params=results['params']\n",
    "\n",
    "cv_score=results['mean_test_score']\n",
    "train_score=results['mean_train_score']\n",
    "\n",
    "cv_std=results['std_test_score']\n",
    "train_std=results['std_train_score']\n",
    "\n",
    "#alpha and score\n",
    "cv_score_l1=[]\n",
    "cv_score_l2=[]\n",
    "train_score_l1=[]\n",
    "train_score_l2=[]\n",
    "\n",
    "\n",
    "for i in range(len(params)):\n",
    "    if params[i]['penalty']=='l1':\n",
    "        cv_score_l1.append(cv_score[i]) \n",
    "        train_score_l1.append(train_score[i])\n",
    "    else:\n",
    "        cv_score_l2.append(cv_score[i])\n",
    "        train_score_l2.append(train_score[i])\n",
    "\n",
    "\n",
    "\n",
    "for j in range(len(alpa)):\n",
    "    alpa[j]=math.log(alpa[j])\n",
    "#plot l1\n",
    "plt.plot(alpa,train_score_l1,label='Train AUC')\n",
    "plt.plot(alpa,cv_score_l1,label='CV AUC')\n",
    "plt.legend()\n",
    "plt.title('AUV VS ALPHA WITH L1 REGULARIZATION')\n",
    "plt.xlabel(\"alpha: hyperparameter\")\n",
    "plt.ylabel(\"score\")\n",
    "plt.show()\n",
    "\n",
    "#plot l2\n",
    "plt.plot(alpa,train_score_l2,label='Train AUC')\n",
    "plt.plot(alpa,cv_score_l2, label='CV AUC')\n",
    "plt.legend()\n",
    "plt.title('AUV VS ALPHA WITH L2 REGULARIZATION')\n",
    "plt.xlabel(\"alpha: hyperparameter\")\n",
    "plt.ylabel(\"score\")\n",
    "plt.show()\n",
    "\n",
    "\n",
    "\n",
    "best=gs.best_params_\n",
    "best_alpha=best['alpha']\n",
    "best_penalty=best['penalty']\n",
    "best_fold=gs.n_splits_\n",
    "print()\n",
    "print('The number of cross-validation splits are '+str(best_fold))\n",
    "print('The best penalty to be used is '+str(best_penalty))\n",
    "print('The best alpha to be used is '+str(best_alpha))\n",
    "print('score achieved is '+str(gs.best_score_*100))\n",
    "\n"
   ]
  },
  {
   "cell_type": "code",
   "execution_count": 50,
   "metadata": {
    "colab": {
     "base_uri": "https://localhost:8080/",
     "height": 330
    },
    "colab_type": "code",
    "id": "iqmgntT6N5sw",
    "outputId": "69cd37e8-c3d5-4733-bcac-1788c32b0f02"
   },
   "outputs": [
    {
     "name": "stdout",
     "output_type": "stream",
     "text": [
      "(43008, 50)\n",
      "(26332, 50)\n"
     ]
    },
    {
     "data": {
      "image/png": "[encoded data removed]",
      "text/plain": [
       "<Figure size 432x288 with 1 Axes>"
      ]
     },
     "metadata": {
      "needs_background": "light"
     },
     "output_type": "display_data"
    }
   ],
   "source": [
    "\n",
    "from sklearn.linear_model import SGDClassifier\n",
    "lsvc=SGDClassifier(alpha=best_alpha,loss='hinge',penalty=best_penalty)\n",
    "clfr=lsvc.fit(xTrain3,yTrain)\n",
    "calibrator = CalibratedClassifierCV(clfr, cv=best_fold)\n",
    "l_svc=calibrator.fit(xTrain3, yTrain)\n",
    "\n",
    "print(xTrain3.shape)\n",
    "print(x_Test3.shape)\n",
    "\n",
    "#auc\n",
    "#https://machinelearningmastery.com/roc-curves-and-precision-recall-curves-for-classification-in-python/\n",
    "\n",
    "pred_Train=l_svc.predict_proba(xTrain3)[:,1]\n",
    "fpr, tpr, t = metrics.roc_curve(yTrain, pred_Train)\n",
    "pred_Test=l_svc.predict_proba(x_Test3)[:,1]\n",
    "fpr1, tpr1, t1 = metrics.roc_curve(yTest, pred_Test)\n",
    "\n",
    "from sklearn.metrics import roc_auc_score\n",
    "plt.plot(fpr,tpr, label='Train AUC,auc='+str(roc_auc_score(yTrain,pred_Train)))\n",
    "plt.plot(fpr1,tpr1, label='Test AUC,auc='+str(roc_auc_score(yTest,pred_Test)))\n",
    "plt.title('ROC')\n",
    "plt.xlabel('FPR')\n",
    "plt.ylabel('TPR')\n",
    "plt.legend()\n",
    "plt.show()"
   ]
  },
  {
   "cell_type": "code",
   "execution_count": 51,
   "metadata": {
    "colab": {
     "base_uri": "https://localhost:8080/",
     "height": 294
    },
    "colab_type": "code",
    "id": "-Sr2o60VN5s0",
    "outputId": "2e5868e9-4bf4-4600-fd93-0ab04ef91d65"
   },
   "outputs": [
    {
     "data": {
      "image/png": "[encoded data removed]",
      "text/plain": [
       "<Figure size 432x288 with 2 Axes>"
      ]
     },
     "metadata": {
      "needs_background": "light"
     },
     "output_type": "display_data"
    }
   ],
   "source": [
    "\n",
    "#confusion matrix for train data\n",
    "import seaborn as sn\n",
    "import pandas as pd\n",
    "import matplotlib.pyplot as plt\n",
    "from sklearn.metrics import confusion_matrix\n",
    "acc3=l_svc.predict(xTrain3)\n",
    "#https://stackoverflow.com/questions/35572000/how-can-i-plot-a-confusion-matrix       \n",
    "import seaborn as sns\n",
    "fig= confusion_matrix(yTrain,acc3)\n",
    "labels= [\"negative\", \"positive\"]\n",
    "data= pd.DataFrame(fig, index = labels,columns = labels)\n",
    "sns.heatmap(data,annot=True,fmt=\"d\")\n",
    "plt.title(\"Confusion Matrix\")\n",
    "plt.xlabel(\"Predicted values\")\n",
    "plt.ylabel(\"True values\")\n",
    "plt.show()"
   ]
  },
  {
   "cell_type": "code",
   "execution_count": 52,
   "metadata": {
    "colab": {
     "base_uri": "https://localhost:8080/",
     "height": 294
    },
    "colab_type": "code",
    "id": "SvFibZUTN5s4",
    "outputId": "5a1b39fb-7ccb-4d75-83a1-22e590ee0747"
   },
   "outputs": [
    {
     "data": {
      "image/png": "[encoded data removed]",
      "text/plain": [
       "<Figure size 432x288 with 2 Axes>"
      ]
     },
     "metadata": {
      "needs_background": "light"
     },
     "output_type": "display_data"
    }
   ],
   "source": [
    "#confusion matrix for test data\n",
    "import seaborn as sn\n",
    "import pandas as pd\n",
    "import matplotlib.pyplot as plt\n",
    "from sklearn.metrics import confusion_matrix\n",
    "acc3=l_svc.predict(x_Test3)\n",
    "#https://stackoverflow.com/questions/35572000/how-can-i-plot-a-confusion-matrix       \n",
    "import seaborn as sns\n",
    "fig= confusion_matrix(yTest,acc3)\n",
    "labels= [\"negative\", \"positive\"]\n",
    "data= pd.DataFrame(fig, index = labels,columns = labels)\n",
    "sns.heatmap(data,annot=True,fmt=\"d\")\n",
    "plt.title(\"Confusion Matrix\")\n",
    "plt.xlabel(\"Predicted values\")\n",
    "plt.ylabel(\"True values\")\n",
    "plt.show()"
   ]
  },
  {
   "cell_type": "markdown",
   "metadata": {
    "colab_type": "text",
    "id": "oo0bTSMCXM3k"
   },
   "source": [
    "### [5.1.4]  Applying Linear SVM on TFIDF W2V,<font color='red'> SET 4</font>"
   ]
  },
  {
   "cell_type": "code",
   "execution_count": 53,
   "metadata": {
    "colab": {
     "base_uri": "https://localhost:8080/",
     "height": 123
    },
    "colab_type": "code",
    "id": "4YEywgSTVigY",
    "outputId": "f03d04f0-62ad-4948-cafd-d8d05c95e1ab"
   },
   "outputs": [
    {
     "name": "stderr",
     "output_type": "stream",
     "text": [
      "100%|██████████| 43008/43008 [12:24<00:00, 57.73it/s]\n",
      "  0%|          | 13/18433 [00:00<05:17, 57.98it/s]"
     ]
    },
    {
     "name": "stdout",
     "output_type": "stream",
     "text": [
      "43008\n"
     ]
    },
    {
     "name": "stderr",
     "output_type": "stream",
     "text": [
      "100%|██████████| 18433/18433 [05:32<00:00, 55.40it/s]\n"
     ]
    },
    {
     "name": "stdout",
     "output_type": "stream",
     "text": [
      "18433\n"
     ]
    },
    {
     "name": "stderr",
     "output_type": "stream",
     "text": [
      "100%|██████████| 26332/26332 [07:45<00:00, 56.57it/s]"
     ]
    },
    {
     "name": "stdout",
     "output_type": "stream",
     "text": [
      "26332\n"
     ]
    },
    {
     "name": "stderr",
     "output_type": "stream",
     "text": [
      "\n"
     ]
    }
   ],
   "source": [
    "\n",
    "\n",
    "#this code is used from Assignment_sample_solution.ipynb provided in the google classroom\n",
    "list_of_sentance_train=[]\n",
    "#w2v\n",
    "for sentance in xTrain:\n",
    "    list_of_sentance_train.append(sentance.split())\n",
    "w2v_model=Word2Vec(list_of_sentance_train,min_count=5,size=50, workers=4)\n",
    "w2v_words = list(w2v_model.wv.vocab)\n",
    "#tf-idf\n",
    "model = TfidfVectorizer()\n",
    "tf_idf_matrix = model.fit_transform(xTrain)\n",
    "dictionary = dict(zip(model.get_feature_names(), list(model.idf_)))\n",
    "tfidf_feat = model.get_feature_names()\n",
    "\n",
    "tfidf_vectors_train = []; \n",
    "row=0;\n",
    "for sent in tqdm(list_of_sentance_train):\n",
    "    sent_vec = np.zeros(50)\n",
    "    weight_sum =0; \n",
    "    for word in sent:\n",
    "        if word in w2v_words and word in tfidf_feat:\n",
    "            vec = w2v_model.wv[word]\n",
    "            tf_idf = dictionary[word]*(sent.count(word)/len(sent))\n",
    "            sent_vec += (vec * tf_idf)\n",
    "            weight_sum += tf_idf\n",
    "    if weight_sum != 0:\n",
    "        sent_vec /= weight_sum\n",
    "    tfidf_vectors_train.append(sent_vec)\n",
    "    row += 1\n",
    "print(len(tfidf_vectors_train))\n",
    "    \n",
    "list_of_sentance_cv=[]\n",
    "for sentance in x_cv:\n",
    "    list_of_sentance_cv.append(sentance.split())\n",
    "tfidf_vectors_cv = []; \n",
    "row=0;\n",
    "for sent in tqdm(list_of_sentance_cv):\n",
    "    sent_vec = np.zeros(50)\n",
    "    weight_sum =0; \n",
    "    for word in sent:\n",
    "        if word in w2v_words and word in tfidf_feat:\n",
    "            vec = w2v_model.wv[word]\n",
    "            tf_idf = dictionary[word]*(sent.count(word)/len(sent))\n",
    "            sent_vec += (vec * tf_idf)\n",
    "            weight_sum += tf_idf\n",
    "    if weight_sum != 0: \n",
    "        sent_vec /= weight_sum\n",
    "    tfidf_vectors_cv.append(sent_vec)\n",
    "    row += 1\n",
    "print(len(tfidf_vectors_cv))\n",
    "\n",
    "list_of_sentance_test=[]\n",
    "for sentance in xTest:\n",
    "    list_of_sentance_test.append(sentance.split())\n",
    "tfidf_vectors_test = []; \n",
    "row=0;\n",
    "for sent in tqdm(list_of_sentance_test):\n",
    "    sent_vec = np.zeros(50)\n",
    "    weight_sum =0; \n",
    "    for word in sent:\n",
    "        if word in w2v_words and word in tfidf_feat:\n",
    "            vec = w2v_model.wv[word]\n",
    "            tf_idf = dictionary[word]*(sent.count(word)/len(sent))\n",
    "            sent_vec += (vec * tf_idf)\n",
    "            weight_sum += tf_idf\n",
    "    if weight_sum != 0:\n",
    "        sent_vec /= weight_sum\n",
    "    tfidf_vectors_test.append(sent_vec)\n",
    "    row += 1\n",
    "print(len(tfidf_vectors_test))"
   ]
  },
  {
   "cell_type": "code",
   "execution_count": 54,
   "metadata": {
    "colab": {
     "base_uri": "https://localhost:8080/",
     "height": 212
    },
    "colab_type": "code",
    "id": "Vzd1BP1pVigf",
    "outputId": "88533d6b-53c6-4374-d432-bb0d18084a89"
   },
   "outputs": [
    {
     "data": {
      "image/png": "[encoded data removed]",
      "text/plain": [
       "<Figure size 432x288 with 1 Axes>"
      ]
     },
     "metadata": {
      "needs_background": "light"
     },
     "output_type": "display_data"
    },
    {
     "data": {
      "image/png": "[encoded data removed]",
      "text/plain": [
       "<Figure size 432x288 with 1 Axes>"
      ]
     },
     "metadata": {
      "needs_background": "light"
     },
     "output_type": "display_data"
    },
    {
     "name": "stdout",
     "output_type": "stream",
     "text": [
      "\n",
      "The number of cross-validation splits are 3\n",
      "The best penalty to be used is l2\n",
      "The best alpha to be used is 0.001\n",
      "score achieved is 87.0651820721183\n"
     ]
    }
   ],
   "source": [
    "xTrain3=tfidf_vectors_train\n",
    "x_cv3=tfidf_vectors_cv\n",
    "x_Test3=tfidf_vectors_test\n",
    "\n",
    "#gridsearch\n",
    "l_svc=SGDClassifier(loss='hinge')\n",
    "from sklearn.model_selection import GridSearchCV\n",
    "alpa=[10**-4, 10**-3,10**-2,10**-1,1,10,100,1000,10000]\n",
    "param_grid=[{'alpha':alpa,'penalty':['l2','l1']}]\n",
    "gs=GridSearchCV(l_svc,param_grid,scoring='roc_auc',return_train_score=True)\n",
    "gs.fit(xTrain3,yTrain)\n",
    "results=gs.cv_results_\n",
    "\n",
    "import math\n",
    "params=results['params']\n",
    "\n",
    "cv_score=results['mean_test_score']\n",
    "train_score=results['mean_train_score']\n",
    "\n",
    "cv_std=results['std_test_score']\n",
    "train_std=results['std_train_score']\n",
    "\n",
    "#alpha and score\n",
    "cv_score_l1=[]\n",
    "cv_score_l2=[]\n",
    "train_score_l1=[]\n",
    "train_score_l2=[]\n",
    "\n",
    "\n",
    "for i in range(len(params)):\n",
    "    if params[i]['penalty']=='l1':\n",
    "        cv_score_l1.append(cv_score[i]) \n",
    "        train_score_l1.append(train_score[i])\n",
    "    else:\n",
    "        cv_score_l2.append(cv_score[i])\n",
    "        train_score_l2.append(train_score[i])\n",
    "\n",
    "\n",
    "\n",
    "for j in range(len(alpa)):\n",
    "    alpa[j]=math.log(alpa[j])\n",
    "#plot l1\n",
    "plt.plot(alpa,train_score_l1,label='Train AUC')\n",
    "plt.plot(alpa,cv_score_l1,label='CV AUC')\n",
    "plt.legend()\n",
    "plt.title('AUV VS ALPHA WITH L1 REGULARIZATION')\n",
    "plt.xlabel(\"alpha: hyperparameter\")\n",
    "plt.ylabel(\"score\")\n",
    "plt.show()\n",
    "\n",
    "#plot l2\n",
    "plt.plot(alpa,train_score_l2,label='Train AUC')\n",
    "plt.plot(alpa,cv_score_l2, label='CV AUC')\n",
    "plt.legend()\n",
    "plt.title('AUV VS ALPHA WITH L2 REGULARIZATION')\n",
    "plt.xlabel(\"alpha: hyperparameter\")\n",
    "plt.ylabel(\"score\")\n",
    "plt.show()\n",
    "\n",
    "\n",
    "best=gs.best_params_\n",
    "best_alpha=best['alpha']\n",
    "best_penalty=best['penalty']\n",
    "best_fold=gs.n_splits_\n",
    "print()\n",
    "print('The number of cross-validation splits are '+str(best_fold))\n",
    "print('The best penalty to be used is '+str(best_penalty))\n",
    "print('The best alpha to be used is '+str(best_alpha))\n",
    "print('score achieved is '+str(gs.best_score_*100))\n",
    "\n"
   ]
  },
  {
   "cell_type": "code",
   "execution_count": 55,
   "metadata": {
    "colab": {
     "base_uri": "https://localhost:8080/",
     "height": 294
    },
    "colab_type": "code",
    "id": "5P2Q7LjGVigk",
    "outputId": "02170e2c-544d-4bd9-f3ea-87f03b9c43f1"
   },
   "outputs": [
    {
     "data": {
      "image/png": "[encoded data removed]",
      "text/plain": [
       "<Figure size 432x288 with 1 Axes>"
      ]
     },
     "metadata": {
      "needs_background": "light"
     },
     "output_type": "display_data"
    }
   ],
   "source": [
    "\n",
    "from sklearn.linear_model import SGDClassifier\n",
    "lsvc=SGDClassifier(alpha=best_alpha,loss='hinge',penalty=best_penalty)\n",
    "clfr=lsvc.fit(xTrain3,yTrain)\n",
    "calibrator = CalibratedClassifierCV(clfr, cv=best_fold)\n",
    "l_svc=calibrator.fit(xTrain3, yTrain)\n",
    "\n",
    "\n",
    "#auc\n",
    "#https://machinelearningmastery.com/roc-curves-and-precision-recall-curves-for-classification-in-python/\n",
    "\n",
    "pred_Train=l_svc.predict_proba(xTrain3)[:,1]\n",
    "fpr, tpr, t = metrics.roc_curve(yTrain, pred_Train)\n",
    "pred_Test=l_svc.predict_proba(x_Test3)[:,1]\n",
    "fpr1, tpr1, t1 = metrics.roc_curve(yTest, pred_Test)\n",
    "\n",
    "from sklearn.metrics import roc_auc_score\n",
    "plt.plot(fpr,tpr, label='Train AUC,auc='+str(roc_auc_score(yTrain,pred_Train)))\n",
    "plt.plot(fpr1,tpr1, label='Test AUC,auc='+str(roc_auc_score(yTest,pred_Test)))\n",
    "plt.title('ROC')\n",
    "plt.xlabel('FPR')\n",
    "plt.ylabel('TPR')\n",
    "plt.legend()\n",
    "plt.show()"
   ]
  },
  {
   "cell_type": "code",
   "execution_count": 56,
   "metadata": {
    "colab": {
     "base_uri": "https://localhost:8080/",
     "height": 294
    },
    "colab_type": "code",
    "id": "CO5pKw8QVigo",
    "outputId": "c7c1070e-e0c9-4249-f2dc-1f15a909ee00"
   },
   "outputs": [
    {
     "data": {
      "image/png": "[encoded data removed]",
      "text/plain": [
       "<Figure size 432x288 with 2 Axes>"
      ]
     },
     "metadata": {
      "needs_background": "light"
     },
     "output_type": "display_data"
    }
   ],
   "source": [
    "\n",
    "#confusion matrix for train data\n",
    "import seaborn as sn\n",
    "import pandas as pd\n",
    "import matplotlib.pyplot as plt\n",
    "from sklearn.metrics import confusion_matrix\n",
    "acc3=l_svc.predict(xTrain3)\n",
    "#https://stackoverflow.com/questions/35572000/how-can-i-plot-a-confusion-matrix       \n",
    "import seaborn as sns\n",
    "fig= confusion_matrix(yTrain,acc3)\n",
    "labels= [\"negative\", \"positive\"]\n",
    "data= pd.DataFrame(fig, index = labels,columns = labels)\n",
    "sns.heatmap(data,annot=True,fmt=\"d\")\n",
    "plt.title(\"Confusion Matrix\")\n",
    "plt.xlabel(\"Predicted values\")\n",
    "plt.ylabel(\"True values\")\n",
    "plt.show()"
   ]
  },
  {
   "cell_type": "code",
   "execution_count": 57,
   "metadata": {
    "colab": {
     "base_uri": "https://localhost:8080/",
     "height": 294
    },
    "colab_type": "code",
    "id": "NEhxfQ2IVigr",
    "outputId": "9ac17468-1091-43ec-c720-192e6c0a33b2"
   },
   "outputs": [
    {
     "data": {
      "image/png": "[encoded data removed]",
      "text/plain": [
       "<Figure size 432x288 with 2 Axes>"
      ]
     },
     "metadata": {
      "needs_background": "light"
     },
     "output_type": "display_data"
    }
   ],
   "source": [
    "#confusion matrix for test data\n",
    "import seaborn as sn\n",
    "import pandas as pd\n",
    "import matplotlib.pyplot as plt\n",
    "from sklearn.metrics import confusion_matrix\n",
    "acc3=l_svc.predict(x_Test3)\n",
    "#https://stackoverflow.com/questions/35572000/how-can-i-plot-a-confusion-matrix       \n",
    "import seaborn as sns\n",
    "fig= confusion_matrix(yTest,acc3)\n",
    "labels= [\"negative\", \"positive\"]\n",
    "data= pd.DataFrame(fig, index = labels,columns = labels)\n",
    "sns.heatmap(data,annot=True,fmt=\"d\")\n",
    "plt.title(\"Confusion Matrix\")\n",
    "plt.xlabel(\"Predicted values\")\n",
    "plt.ylabel(\"True values\")\n",
    "plt.show()"
   ]
  },
  {
   "cell_type": "code",
   "execution_count": 58,
   "metadata": {
    "colab": {
     "base_uri": "https://localhost:8080/",
     "height": 105
    },
    "colab_type": "code",
    "id": "YLez1EA2Vigu",
    "outputId": "5b888e3c-739b-4a7b-cf11-64456ac343f7"
   },
   "outputs": [
    {
     "name": "stdout",
     "output_type": "stream",
     "text": [
      "Top 10 positive featues are\n",
      "['abolutley', 'abig', 'abc', 'aachen', 'aaa', 'ablity', 'abit', 'abnormalities', 'aboard', 'aaaa']\n",
      "----------------------------------------------------------------------------------------------------\n",
      "Top 10 negative featues are\n",
      "['aaahs', 'aahhhs', 'abdomen', 'abode', 'abiding', 'abilities', 'abita', 'abhor', 'abby', 'abandoning']\n"
     ]
    }
   ],
   "source": [
    "coef = lsvc.coef_\n",
    "feat=tfidf_feat\n",
    "top_positive_coefficients = list(np.argsort(coef))\n",
    "top_positive_features=[feat[i] for i in top_positive_coefficients[0][::-1]]\n",
    "print('Top 10 positive featues are')\n",
    "print(top_positive_features[:10:])\n",
    "print('-'*100)\n",
    "top_negative_coefficients = list(np.argsort(coef)[:10])\n",
    "top_negative_features=[feat[i] for i in top_negative_coefficients[0]]\n",
    "print('Top 10 negative featues are')\n",
    "print(top_negative_features[:10:])"
   ]
  },
  {
   "cell_type": "code",
   "execution_count": null,
   "metadata": {
    "colab": {},
    "colab_type": "code",
    "id": "12U01bQZA2It"
   },
   "outputs": [],
   "source": []
  },
  {
   "cell_type": "markdown",
   "metadata": {
    "colab_type": "text",
    "id": "8yNw9fMlXM3o"
   },
   "source": [
    "## [5.2] RBF SVM"
   ]
  },
  {
   "cell_type": "markdown",
   "metadata": {
    "colab_type": "text",
    "id": "ebPZ6zM_XM3p"
   },
   "source": [
    "### [5.2.1] Applying RBF SVM on BOW,<font color='red'> SET 1</font>"
   ]
  },
  {
   "cell_type": "code",
   "execution_count": 59,
   "metadata": {
    "colab": {},
    "colab_type": "code",
    "id": "hfY_mh4jZV58"
   },
   "outputs": [],
   "source": [
    "from sklearn.svm import SVC"
   ]
  },
  {
   "cell_type": "code",
   "execution_count": 60,
   "metadata": {
    "colab": {},
    "colab_type": "code",
    "id": "OqmTTXkt263t"
   },
   "outputs": [
    {
     "data": {
      "image/png": "[encoded data removed]",
      "text/plain": [
       "<Figure size 432x288 with 1 Axes>"
      ]
     },
     "metadata": {
      "needs_background": "light"
     },
     "output_type": "display_data"
    },
    {
     "name": "stdout",
     "output_type": "stream",
     "text": [
      "\n",
      "The number of cross-validation splits are 3\n",
      "The best C to be used is 10\n",
      "score achieved is 88.17643835067656\n"
     ]
    }
   ],
   "source": [
    "# Please write all the code with proper documentation\n",
    "import numpy as np\n",
    "import pandas as pd\n",
    "import matplotlib.pyplot as plt\n",
    "from sklearn.metrics import roc_curve, auc\n",
    "\n",
    "a=preprocessed_reviews\n",
    "b=np.array(final['Score'])\n",
    "a=a[:40000]\n",
    "b=b[:40000]\n",
    "vectorizer=CountVectorizer()\n",
    "\n",
    "#https://medium.com/@contactsunny/how-to-split-your-dataset-to-train-and-test-datasets-using-scikit-learn-e7cf6eb5e0d\n",
    "#https://scikit-learn.org/stable/modules/generated/sklearn.model_selection.train_test_split.html\n",
    "#used above references for train,text and cv splitting\n",
    "\n",
    "from sklearn.model_selection import train_test_split\n",
    "x, xTest, y, yTest = train_test_split(a,b, test_size = 0.3,random_state=4)\n",
    "xTrain, x_cv, yTrain, y_cv= train_test_split(x, y, test_size =0.3)\n",
    "\n",
    "#https://datascience.stackexchange.com/questions/12321/difference-between-fit-and-fit-transform-in-scikit-learn-models\n",
    "#the above link is been used to clarify whether to use .fit() or .fit_transform().I am using fit_transform() on train data and transform() on cv and test data\n",
    "\n",
    "xTrain2=vectorizer.fit_transform(xTrain)\n",
    "x_cv2=vectorizer.transform(x_cv)\n",
    "xTest2=vectorizer.transform(xTest)\n",
    "\n",
    "#coloum standardization\n",
    "from sklearn.preprocessing import StandardScaler\n",
    "ss=StandardScaler(with_mean=False)\n",
    "xTrain3=ss.fit_transform(xTrain2)\n",
    "x_cv3=ss.transform(x_cv2)\n",
    "x_Test3=ss.transform(xTest2)\n",
    "\n",
    "#gridsearch\n",
    "l_svc=SVC(kernel='rbf')\n",
    "from sklearn.model_selection import GridSearchCV\n",
    "alpa=[10**-4, 10**-3,10**-2,10**-1,1,10,100,1000,10000]\n",
    "param_grid=[{'C':alpa}]\n",
    "gs=GridSearchCV(l_svc,param_grid,scoring='roc_auc',return_train_score=True)\n",
    "gs.fit(xTrain3,yTrain)\n",
    "results=gs.cv_results_\n",
    "\n",
    "import math\n",
    "params=results['params']\n",
    "cv_score=results['mean_test_score']\n",
    "train_score=results['mean_train_score']\n",
    "\n",
    "for j in range(len(alpa)):\n",
    "    alpa[j]=math.log(alpa[j])\n",
    "\n",
    "plt.plot(alpa,train_score,label='Train AUC')\n",
    "plt.plot(alpa,cv_score,label='CV AUC')\n",
    "plt.legend()\n",
    "plt.title('AUV VS ALPHA WITH RBF KERNEL')\n",
    "plt.xlabel(\"alpha: hyperparameter\")\n",
    "plt.ylabel(\"score\")\n",
    "plt.show()\n",
    "\n",
    "\n",
    "\n",
    "best=gs.best_params_\n",
    "best_c=best['C']\n",
    "\n",
    "best_fold=gs.n_splits_\n",
    "print()\n",
    "print('The number of cross-validation splits are '+str(best_fold))\n",
    "print('The best C to be used is '+str(best_c))\n",
    "print('score achieved is '+str(gs.best_score_*100))\n",
    "\n"
   ]
  },
  {
   "cell_type": "code",
   "execution_count": 61,
   "metadata": {
    "colab": {},
    "colab_type": "code",
    "id": "AHNvq7TtYgNf"
   },
   "outputs": [
    {
     "name": "stdout",
     "output_type": "stream",
     "text": [
      "(19600, 26911)\n",
      "(12000, 26911)\n"
     ]
    },
    {
     "data": {
      "image/png": "[encoded data removed]",
      "text/plain": [
       "<Figure size 432x288 with 1 Axes>"
      ]
     },
     "metadata": {
      "needs_background": "light"
     },
     "output_type": "display_data"
    }
   ],
   "source": [
    "#Linear svc with BOW \n",
    "from sklearn.linear_model import SGDClassifier\n",
    "l_svc=SVC(C=best_c,probability=True,kernel='rbf')\n",
    "l_svc.fit(xTrain3,yTrain)\n",
    "\n",
    "print(xTrain3.shape)\n",
    "print(x_Test3.shape)\n",
    "\n",
    "#auc\n",
    "#https://machinelearningmastery.com/roc-curves-and-precision-recall-curves-for-classification-in-python/\n",
    "\n",
    "pred_Train=l_svc.predict_proba(xTrain3)[:,1]\n",
    "fpr, tpr, t = metrics.roc_curve(yTrain, pred_Train)\n",
    "pred_Test=l_svc.predict_proba(x_Test3)[:,1]\n",
    "fpr1, tpr1, t1 = metrics.roc_curve(yTest, pred_Test)\n",
    "\n",
    "from sklearn.metrics import roc_auc_score\n",
    "plt.plot(fpr,tpr, label='Train AUC,auc='+str(roc_auc_score(yTrain,pred_Train)))\n",
    "plt.plot(fpr1,tpr1, label='Test AUC,auc='+str(roc_auc_score(yTest,pred_Test)))\n",
    "plt.title('ROC')\n",
    "plt.xlabel('FPR')\n",
    "plt.ylabel('TPR')\n",
    "plt.legend()\n",
    "plt.show()"
   ]
  },
  {
   "cell_type": "code",
   "execution_count": 62,
   "metadata": {
    "colab": {},
    "colab_type": "code",
    "id": "c6J44uwdYgNj"
   },
   "outputs": [
    {
     "data": {
      "image/png": "[encoded data removed]",
      "text/plain": [
       "<Figure size 432x288 with 2 Axes>"
      ]
     },
     "metadata": {
      "needs_background": "light"
     },
     "output_type": "display_data"
    }
   ],
   "source": [
    "\n",
    "#confusion matrix for train data\n",
    "import seaborn as sn\n",
    "import pandas as pd\n",
    "import matplotlib.pyplot as plt\n",
    "from sklearn.metrics import confusion_matrix\n",
    "acc3=l_svc.predict(xTrain3)\n",
    "#https://stackoverflow.com/questions/35572000/how-can-i-plot-a-confusion-matrix       \n",
    "import seaborn as sns\n",
    "fig= confusion_matrix(yTrain,acc3)\n",
    "labels= [\"negative\", \"positive\"]\n",
    "data= pd.DataFrame(fig, index = labels,columns = labels)\n",
    "sns.heatmap(data,annot=True,fmt=\"d\")\n",
    "plt.title(\"Confusion Matrix\")\n",
    "plt.xlabel(\"Predicted values\")\n",
    "plt.ylabel(\"True values\")\n",
    "plt.show()"
   ]
  },
  {
   "cell_type": "code",
   "execution_count": 63,
   "metadata": {
    "colab": {},
    "colab_type": "code",
    "id": "a14EOLw-YgNm"
   },
   "outputs": [
    {
     "data": {
      "image/png": "[encoded data removed]",
      "text/plain": [
       "<Figure size 432x288 with 2 Axes>"
      ]
     },
     "metadata": {
      "needs_background": "light"
     },
     "output_type": "display_data"
    }
   ],
   "source": [
    "#confusion matrix for test data\n",
    "import seaborn as sn\n",
    "import pandas as pd\n",
    "import matplotlib.pyplot as plt\n",
    "from sklearn.metrics import confusion_matrix\n",
    "acc3=l_svc.predict(x_Test3)\n",
    "#https://stackoverflow.com/questions/35572000/how-can-i-plot-a-confusion-matrix       \n",
    "import seaborn as sns\n",
    "fig= confusion_matrix(yTest,acc3)\n",
    "labels= [\"negative\", \"positive\"]\n",
    "data= pd.DataFrame(fig, index = labels,columns = labels)\n",
    "sns.heatmap(data,annot=True,fmt=\"d\")\n",
    "plt.title(\"Confusion Matrix\")\n",
    "plt.xlabel(\"Predicted values\")\n",
    "plt.ylabel(\"True values\")\n",
    "plt.show()"
   ]
  },
  {
   "cell_type": "markdown",
   "metadata": {
    "colab_type": "text",
    "id": "cdk9dXhbXM3t"
   },
   "source": [
    "### [5.2.2] Applying RBF SVM on TFIDF,<font color='red'> SET 2</font>"
   ]
  },
  {
   "cell_type": "code",
   "execution_count": 64,
   "metadata": {
    "colab": {},
    "colab_type": "code",
    "id": "Yhu8V3Tsd7zt"
   },
   "outputs": [
    {
     "data": {
      "image/png": "[encoded data removed]",
      "text/plain": [
       "<Figure size 432x288 with 1 Axes>"
      ]
     },
     "metadata": {
      "needs_background": "light"
     },
     "output_type": "display_data"
    },
    {
     "name": "stdout",
     "output_type": "stream",
     "text": [
      "\n",
      "The number of cross-validation splits are 3\n",
      "The best C to be used is 1\n",
      "score achieved is 88.29422902511432\n"
     ]
    }
   ],
   "source": [
    "# Please write all the code with proper documentation\n",
    "import numpy as np\n",
    "import pandas as pd\n",
    "import matplotlib.pyplot as plt\n",
    "from sklearn.metrics import roc_curve, auc\n",
    "\n",
    "a=preprocessed_reviews\n",
    "b=np.array(final['Score'])\n",
    "a=a[:40000]\n",
    "b=b[:40000]\n",
    "vectorizer=TfidfVectorizer()\n",
    "\n",
    "#https://medium.com/@contactsunny/how-to-split-your-dataset-to-train-and-test-datasets-using-scikit-learn-e7cf6eb5e0d\n",
    "#https://scikit-learn.org/stable/modules/generated/sklearn.model_selection.train_test_split.html\n",
    "#used above references for train,text and cv splitting\n",
    "\n",
    "from sklearn.model_selection import train_test_split\n",
    "x, xTest, y, yTest = train_test_split(a,b, test_size = 0.3,random_state=4)\n",
    "xTrain, x_cv, yTrain, y_cv= train_test_split(x, y, test_size =0.3)\n",
    "\n",
    "#https://datascience.stackexchange.com/questions/12321/difference-between-fit-and-fit-transform-in-scikit-learn-models\n",
    "#the above link is been used to clarify whether to use .fit() or .fit_transform().I am using fit_transform() on train data and transform() on cv and test data\n",
    "\n",
    "xTrain2=vectorizer.fit_transform(xTrain)\n",
    "x_cv2=vectorizer.transform(x_cv)\n",
    "xTest2=vectorizer.transform(xTest)\n",
    "\n",
    "#coloum standardization\n",
    "from sklearn.preprocessing import StandardScaler\n",
    "ss=StandardScaler(with_mean=False)\n",
    "xTrain3=ss.fit_transform(xTrain2)\n",
    "x_cv3=ss.transform(x_cv2)\n",
    "x_Test3=ss.transform(xTest2)\n",
    "\n",
    "l_svc=SVC(kernel='rbf')\n",
    "from sklearn.model_selection import GridSearchCV\n",
    "alpa=[10**-4, 10**-3,10**-2,10**-1,1,10,100,1000,10000]\n",
    "param_grid=[{'C':alpa}]\n",
    "gs=GridSearchCV(l_svc,param_grid,scoring='roc_auc',return_train_score=True)\n",
    "gs.fit(xTrain3,yTrain)\n",
    "results=gs.cv_results_\n",
    "\n",
    "import math\n",
    "params=results['params']\n",
    "cv_score=results['mean_test_score']\n",
    "train_score=results['mean_train_score']\n",
    "\n",
    "for j in range(len(alpa)):\n",
    "    alpa[j]=math.log(alpa[j])\n",
    "\n",
    "plt.plot(alpa,train_score,label='Train AUC')\n",
    "plt.plot(alpa,cv_score,label='CV AUC')\n",
    "plt.legend()\n",
    "plt.title('AUV VS ALPHA WITH RBF KERNEL')\n",
    "plt.xlabel(\"alpha: hyperparameter\")\n",
    "plt.ylabel(\"score\")\n",
    "plt.show()\n",
    "\n",
    "best=gs.best_params_\n",
    "best_c=best['C']\n",
    "\n",
    "best_fold=gs.n_splits_\n",
    "print()\n",
    "print('The number of cross-validation splits are '+str(best_fold))\n",
    "print('The best C to be used is '+str(best_c))\n",
    "print('score achieved is '+str(gs.best_score_*100))\n",
    "\n"
   ]
  },
  {
   "cell_type": "code",
   "execution_count": 65,
   "metadata": {
    "colab": {},
    "colab_type": "code",
    "id": "35hK-w8Id7z0"
   },
   "outputs": [
    {
     "name": "stdout",
     "output_type": "stream",
     "text": [
      "(19600, 27102)\n",
      "(12000, 27102)\n"
     ]
    },
    {
     "data": {
      "image/png": "[encoded data removed]",
      "text/plain": [
       "<Figure size 432x288 with 1 Axes>"
      ]
     },
     "metadata": {
      "needs_background": "light"
     },
     "output_type": "display_data"
    }
   ],
   "source": [
    "#Linear svc with BOW \n",
    "from sklearn.linear_model import SGDClassifier\n",
    "l_svc=SVC(C=best_c,probability=True,kernel='rbf')\n",
    "l_svc.fit(xTrain3,yTrain)\n",
    "\n",
    "print(xTrain3.shape)\n",
    "print(x_Test3.shape)\n",
    "\n",
    "#auc\n",
    "#https://machinelearningmastery.com/roc-curves-and-precision-recall-curves-for-classification-in-python/\n",
    "\n",
    "pred_Train=l_svc.predict_proba(xTrain3)[:,1]\n",
    "fpr, tpr, t = metrics.roc_curve(yTrain, pred_Train)\n",
    "pred_Test=l_svc.predict_proba(x_Test3)[:,1]\n",
    "fpr1, tpr1, t1 = metrics.roc_curve(yTest, pred_Test)\n",
    "\n",
    "from sklearn.metrics import roc_auc_score\n",
    "plt.plot(fpr,tpr, label='Train AUC,auc='+str(roc_auc_score(yTrain,pred_Train)))\n",
    "plt.plot(fpr1,tpr1, label='Test AUC,auc='+str(roc_auc_score(yTest,pred_Test)))\n",
    "plt.title('ROC')\n",
    "plt.xlabel('FPR')\n",
    "plt.ylabel('TPR')\n",
    "plt.legend()\n",
    "plt.show()"
   ]
  },
  {
   "cell_type": "code",
   "execution_count": 66,
   "metadata": {
    "colab": {},
    "colab_type": "code",
    "id": "9yxekaDod7z4"
   },
   "outputs": [
    {
     "data": {
      "image/png": "[encoded data removed]",
      "text/plain": [
       "<Figure size 432x288 with 2 Axes>"
      ]
     },
     "metadata": {
      "needs_background": "light"
     },
     "output_type": "display_data"
    }
   ],
   "source": [
    "\n",
    "#confusion matrix for train data\n",
    "import seaborn as sn\n",
    "import pandas as pd\n",
    "import matplotlib.pyplot as plt\n",
    "from sklearn.metrics import confusion_matrix\n",
    "acc3=l_svc.predict(xTrain3)\n",
    "#https://stackoverflow.com/questions/35572000/how-can-i-plot-a-confusion-matrix       \n",
    "import seaborn as sns\n",
    "fig= confusion_matrix(yTrain,acc3)\n",
    "labels= [\"negative\", \"positive\"]\n",
    "data= pd.DataFrame(fig, index = labels,columns = labels)\n",
    "sns.heatmap(data,annot=True,fmt=\"d\")\n",
    "plt.title(\"Confusion Matrix\")\n",
    "plt.xlabel(\"Predicted values\")\n",
    "plt.ylabel(\"True values\")\n",
    "plt.show()"
   ]
  },
  {
   "cell_type": "code",
   "execution_count": 67,
   "metadata": {
    "colab": {},
    "colab_type": "code",
    "id": "wdZy_0ecd7z8"
   },
   "outputs": [
    {
     "data": {
      "image/png": "[encoded data removed]",
      "text/plain": [
       "<Figure size 432x288 with 2 Axes>"
      ]
     },
     "metadata": {
      "needs_background": "light"
     },
     "output_type": "display_data"
    }
   ],
   "source": [
    "#confusion matrix for test data\n",
    "import seaborn as sn\n",
    "import pandas as pd\n",
    "import matplotlib.pyplot as plt\n",
    "from sklearn.metrics import confusion_matrix\n",
    "acc3=l_svc.predict(x_Test3)\n",
    "#https://stackoverflow.com/questions/35572000/how-can-i-plot-a-confusion-matrix       \n",
    "import seaborn as sns\n",
    "fig= confusion_matrix(yTest,acc3)\n",
    "labels= [\"negative\", \"positive\"]\n",
    "data= pd.DataFrame(fig, index = labels,columns = labels)\n",
    "sns.heatmap(data,annot=True,fmt=\"d\")\n",
    "plt.title(\"Confusion Matrix\")\n",
    "plt.xlabel(\"Predicted values\")\n",
    "plt.ylabel(\"True values\")\n",
    "plt.show()"
   ]
  },
  {
   "cell_type": "code",
   "execution_count": 68,
   "metadata": {
    "colab": {},
    "colab_type": "code",
    "id": "GOdPcewzXM3u"
   },
   "outputs": [],
   "source": [
    "# Please write all the code with proper documentation"
   ]
  },
  {
   "cell_type": "markdown",
   "metadata": {
    "colab_type": "text",
    "id": "kDU8q6YsXM3x"
   },
   "source": [
    "### [5.2.3]  Applying RBF SVM on AVG W2V,<font color='red'> SET 3</font>"
   ]
  },
  {
   "cell_type": "code",
   "execution_count": 69,
   "metadata": {
    "colab": {},
    "colab_type": "code",
    "id": "UbfcirBIe7z-"
   },
   "outputs": [
    {
     "name": "stderr",
     "output_type": "stream",
     "text": [
      "100%|██████████| 19600/19600 [00:21<00:00, 923.04it/s]\n",
      "  0%|          | 0/8400 [00:00<?, ?it/s]"
     ]
    },
    {
     "name": "stdout",
     "output_type": "stream",
     "text": [
      "19600\n"
     ]
    },
    {
     "name": "stderr",
     "output_type": "stream",
     "text": [
      "100%|██████████| 8400/8400 [00:09<00:00, 915.55it/s] \n",
      "  1%|          | 89/12000 [00:00<00:13, 861.10it/s]"
     ]
    },
    {
     "name": "stdout",
     "output_type": "stream",
     "text": [
      "8400\n"
     ]
    },
    {
     "name": "stderr",
     "output_type": "stream",
     "text": [
      "100%|██████████| 12000/12000 [00:13<00:00, 902.45it/s] \n"
     ]
    }
   ],
   "source": [
    "\n",
    "#this code is used from Assignment_sample_solution.ipynb provided in the google classroom\n",
    "list_of_sentance_train=[]\n",
    "for sentance in xTrain:\n",
    "    list_of_sentance_train.append(sentance.split())\n",
    "w2v_model=Word2Vec(list_of_sentance_train,min_count=5,size=50, workers=4)\n",
    "w2v_words = list(w2v_model.wv.vocab)\n",
    "\n",
    "sent_vectors_train = [];\n",
    "for sent in tqdm(list_of_sentance_train):\n",
    "    sent_vec = np.zeros(50) \n",
    "    cnt_words =0; \n",
    "    for word in sent: \n",
    "        if word in w2v_words:\n",
    "            vec = w2v_model.wv[word]\n",
    "            sent_vec += vec\n",
    "            cnt_words += 1\n",
    "    if cnt_words != 0:\n",
    "        sent_vec /= cnt_words\n",
    "    sent_vectors_train.append(sent_vec)\n",
    "sent_vectors_train = np.array(sent_vectors_train)\n",
    "print(len(sent_vectors_train))\n",
    "#print(sent_vectors_train[0])\n",
    "\n",
    "list_of_sentance_cv=[]\n",
    "for sentance in x_cv:\n",
    "    list_of_sentance_cv.append(sentance.split())\n",
    "sent_vectors_cv= [];\n",
    "for sent in tqdm(list_of_sentance_cv):\n",
    "    sent_vec = np.zeros(50) \n",
    "    cnt_words =0; \n",
    "    for word in sent: \n",
    "        if word in w2v_words:\n",
    "            vec = w2v_model.wv[word]\n",
    "            sent_vec += vec\n",
    "            cnt_words += 1\n",
    "    if cnt_words != 0:\n",
    "        sent_vec /= cnt_words\n",
    "    sent_vectors_cv.append(sent_vec)\n",
    "sent_vectors_cv = np.array(sent_vectors_cv)\n",
    "print(len(sent_vectors_cv))\n",
    "#print(sent_vectors_cv[0])\n",
    "\n",
    "list_of_sentance_test=[]\n",
    "for sentance in xTest:\n",
    "    list_of_sentance_test.append(sentance.split())\n",
    "\n",
    "sent_vectors_test= [];\n",
    "for sent in tqdm(list_of_sentance_test):\n",
    "    sent_vec = np.zeros(50) \n",
    "    cnt_words =0; \n",
    "    for word in sent: \n",
    "        if word in w2v_words:\n",
    "            vec = w2v_model.wv[word]\n",
    "            sent_vec += vec\n",
    "            cnt_words += 1\n",
    "    if cnt_words != 0:\n",
    "        sent_vec /= cnt_words\n",
    "    sent_vectors_test.append(sent_vec)\n",
    "sent_vectors_test = np.array(sent_vectors_test)\n",
    "\n"
   ]
  },
  {
   "cell_type": "code",
   "execution_count": 70,
   "metadata": {
    "colab": {},
    "colab_type": "code",
    "id": "vtm0DTz9e2V7"
   },
   "outputs": [
    {
     "data": {
      "image/png": "[encoded data removed]",
      "text/plain": [
       "<Figure size 432x288 with 1 Axes>"
      ]
     },
     "metadata": {
      "needs_background": "light"
     },
     "output_type": "display_data"
    },
    {
     "name": "stdout",
     "output_type": "stream",
     "text": [
      "\n",
      "The number of cross-validation splits are 3\n",
      "The best C to be used is 100\n",
      "score achieved is 88.33544607594521\n"
     ]
    }
   ],
   "source": [
    "xTrain3=sent_vectors_train\n",
    "x_cv3=sent_vectors_cv\n",
    "x_Test3=sent_vectors_test\n",
    "\n",
    "l_svc=SVC(kernel='rbf')\n",
    "from sklearn.model_selection import GridSearchCV\n",
    "alpa=[10**-4, 10**-3,10**-2,10**-1,1,10,100,1000,10000]\n",
    "param_grid=[{'C':alpa}]\n",
    "gs=GridSearchCV(l_svc,param_grid,scoring='roc_auc',return_train_score=True)\n",
    "gs.fit(xTrain3,yTrain)\n",
    "results=gs.cv_results_\n",
    "\n",
    "import math\n",
    "params=results['params']\n",
    "cv_score=results['mean_test_score']\n",
    "train_score=results['mean_train_score']\n",
    "\n",
    "for j in range(len(alpa)):\n",
    "    alpa[j]=math.log(alpa[j])\n",
    "\n",
    "plt.plot(alpa,train_score,label='Train AUC')\n",
    "plt.plot(alpa,cv_score,label='CV AUC')\n",
    "plt.legend()\n",
    "plt.title('AUV VS ALPHA WITH RBF KERNEL')\n",
    "plt.xlabel(\"alpha: hyperparameter\")\n",
    "plt.ylabel(\"score\")\n",
    "plt.show()\n",
    "\n",
    "\n",
    "best=gs.best_params_\n",
    "best_c=best['C']\n",
    "\n",
    "best_fold=gs.n_splits_\n",
    "print()\n",
    "print('The number of cross-validation splits are '+str(best_fold))\n",
    "print('The best C to be used is '+str(best_c))\n",
    "print('score achieved is '+str(gs.best_score_*100))\n",
    "\n"
   ]
  },
  {
   "cell_type": "code",
   "execution_count": 71,
   "metadata": {
    "colab": {},
    "colab_type": "code",
    "id": "3C3KZ7IEe2WD"
   },
   "outputs": [
    {
     "name": "stdout",
     "output_type": "stream",
     "text": [
      "(19600, 50)\n",
      "(12000, 50)\n"
     ]
    },
    {
     "data": {
      "image/png": "[encoded data removed]",
      "text/plain": [
       "<Figure size 432x288 with 1 Axes>"
      ]
     },
     "metadata": {
      "needs_background": "light"
     },
     "output_type": "display_data"
    }
   ],
   "source": [
    "\n",
    "from sklearn.linear_model import SGDClassifier\n",
    "l_svc=SVC(C=best_c,probability=True,kernel='rbf')\n",
    "l_svc.fit(xTrain3,yTrain)\n",
    "\n",
    "print(xTrain3.shape)\n",
    "print(x_Test3.shape)\n",
    "\n",
    "#auc\n",
    "#https://machinelearningmastery.com/roc-curves-and-precision-recall-curves-for-classification-in-python/\n",
    "\n",
    "pred_Train=l_svc.predict_proba(xTrain3)[:,1]\n",
    "fpr, tpr, t = metrics.roc_curve(yTrain, pred_Train)\n",
    "pred_Test=l_svc.predict_proba(x_Test3)[:,1]\n",
    "fpr1, tpr1, t1 = metrics.roc_curve(yTest, pred_Test)\n",
    "\n",
    "from sklearn.metrics import roc_auc_score\n",
    "plt.plot(fpr,tpr, label='Train AUC,auc='+str(roc_auc_score(yTrain,pred_Train)))\n",
    "plt.plot(fpr1,tpr1, label='Test AUC,auc='+str(roc_auc_score(yTest,pred_Test)))\n",
    "plt.title('ROC')\n",
    "plt.xlabel('FPR')\n",
    "plt.ylabel('TPR')\n",
    "plt.legend()\n",
    "plt.show()"
   ]
  },
  {
   "cell_type": "code",
   "execution_count": 72,
   "metadata": {
    "colab": {},
    "colab_type": "code",
    "id": "Lneg6bYLe2WH"
   },
   "outputs": [
    {
     "data": {
      "image/png": "[encoded data removed]",
      "text/plain": [
       "<Figure size 432x288 with 2 Axes>"
      ]
     },
     "metadata": {
      "needs_background": "light"
     },
     "output_type": "display_data"
    }
   ],
   "source": [
    "\n",
    "#confusion matrix for train data\n",
    "import seaborn as sn\n",
    "import pandas as pd\n",
    "import matplotlib.pyplot as plt\n",
    "from sklearn.metrics import confusion_matrix\n",
    "acc3=l_svc.predict(xTrain3)\n",
    "#https://stackoverflow.com/questions/35572000/how-can-i-plot-a-confusion-matrix       \n",
    "import seaborn as sns\n",
    "fig= confusion_matrix(yTrain,acc3)\n",
    "labels= [\"negative\", \"positive\"]\n",
    "data= pd.DataFrame(fig, index = labels,columns = labels)\n",
    "sns.heatmap(data,annot=True,fmt=\"d\")\n",
    "plt.title(\"Confusion Matrix\")\n",
    "plt.xlabel(\"Predicted values\")\n",
    "plt.ylabel(\"True values\")\n",
    "plt.show()"
   ]
  },
  {
   "cell_type": "code",
   "execution_count": 73,
   "metadata": {
    "colab": {},
    "colab_type": "code",
    "id": "9P-MaAMfe2WL"
   },
   "outputs": [
    {
     "data": {
      "image/png": "[encoded data removed]",
      "text/plain": [
       "<Figure size 432x288 with 2 Axes>"
      ]
     },
     "metadata": {
      "needs_background": "light"
     },
     "output_type": "display_data"
    }
   ],
   "source": [
    "#confusion matrix for test data\n",
    "import seaborn as sn\n",
    "import pandas as pd\n",
    "import matplotlib.pyplot as plt\n",
    "from sklearn.metrics import confusion_matrix\n",
    "acc3=l_svc.predict(x_Test3)\n",
    "#https://stackoverflow.com/questions/35572000/how-can-i-plot-a-confusion-matrix       \n",
    "import seaborn as sns\n",
    "fig= confusion_matrix(yTest,acc3)\n",
    "labels= [\"negative\", \"positive\"]\n",
    "data= pd.DataFrame(fig, index = labels,columns = labels)\n",
    "sns.heatmap(data,annot=True,fmt=\"d\")\n",
    "plt.title(\"Confusion Matrix\")\n",
    "plt.xlabel(\"Predicted values\")\n",
    "plt.ylabel(\"True values\")\n",
    "plt.show()"
   ]
  },
  {
   "cell_type": "markdown",
   "metadata": {
    "colab_type": "text",
    "id": "iiUnxq1UXM31"
   },
   "source": [
    "### [5.2.4]  Applying RBF SVM on TFIDF W2V,<font color='red'> SET 4</font>"
   ]
  },
  {
   "cell_type": "code",
   "execution_count": 74,
   "metadata": {
    "colab": {},
    "colab_type": "code",
    "id": "KyqMO1GdhJAw"
   },
   "outputs": [
    {
     "name": "stderr",
     "output_type": "stream",
     "text": [
      "100%|██████████| 19600/19600 [03:07<00:00, 104.61it/s]\n",
      "  0%|          | 18/8400 [00:00<01:46, 78.80it/s]"
     ]
    },
    {
     "name": "stdout",
     "output_type": "stream",
     "text": [
      "19600\n"
     ]
    },
    {
     "name": "stderr",
     "output_type": "stream",
     "text": [
      "100%|██████████| 8400/8400 [01:21<00:00, 104.40it/s]\n",
      "  0%|          | 23/12000 [00:00<01:57, 101.96it/s]"
     ]
    },
    {
     "name": "stdout",
     "output_type": "stream",
     "text": [
      "8400\n"
     ]
    },
    {
     "name": "stderr",
     "output_type": "stream",
     "text": [
      "100%|██████████| 12000/12000 [01:55<00:00, 103.94it/s]"
     ]
    },
    {
     "name": "stdout",
     "output_type": "stream",
     "text": [
      "12000\n"
     ]
    },
    {
     "name": "stderr",
     "output_type": "stream",
     "text": [
      "\n"
     ]
    }
   ],
   "source": [
    "\n",
    "#this code is used from Assignment_sample_solution.ipynb provided in the google classroom\n",
    "list_of_sentance_train=[]\n",
    "for sentance in xTrain:\n",
    "    list_of_sentance_train.append(sentance.split())\n",
    "#w2v\n",
    "w2v_model=Word2Vec(list_of_sentance_train,min_count=5,size=50, workers=4)\n",
    "w2v_words = list(w2v_model.wv.vocab)\n",
    "model = TfidfVectorizer()\n",
    "#if-idf\n",
    "tf_idf_matrix = model.fit_transform(xTrain)\n",
    "dictionary = dict(zip(model.get_feature_names(), list(model.idf_)))\n",
    "tfidf_feat = model.get_feature_names()\n",
    "\n",
    "tfidf_vectors_train = []; \n",
    "row=0;\n",
    "for sent in tqdm(list_of_sentance_train):\n",
    "    sent_vec = np.zeros(50)\n",
    "    weight_sum =0; \n",
    "    for word in sent:\n",
    "        if word in w2v_words and word in tfidf_feat:\n",
    "            vec = w2v_model.wv[word]\n",
    "            tf_idf = dictionary[word]*(sent.count(word)/len(sent))\n",
    "            sent_vec += (vec * tf_idf)\n",
    "            weight_sum += tf_idf\n",
    "    if weight_sum != 0:\n",
    "        sent_vec /= weight_sum\n",
    "    tfidf_vectors_train.append(sent_vec)\n",
    "    row += 1\n",
    "print(len(tfidf_vectors_train))\n",
    "    \n",
    "list_of_sentance_cv=[]\n",
    "for sentance in x_cv:\n",
    "    list_of_sentance_cv.append(sentance.split())\n",
    "tfidf_vectors_cv = []; \n",
    "row=0;\n",
    "for sent in tqdm(list_of_sentance_cv):\n",
    "    sent_vec = np.zeros(50)\n",
    "    weight_sum =0; \n",
    "    for word in sent:\n",
    "        if word in w2v_words and word in tfidf_feat:\n",
    "            vec = w2v_model.wv[word]\n",
    "            tf_idf = dictionary[word]*(sent.count(word)/len(sent))\n",
    "            sent_vec += (vec * tf_idf)\n",
    "            weight_sum += tf_idf\n",
    "    if weight_sum != 0:\n",
    "        sent_vec /= weight_sum\n",
    "    tfidf_vectors_cv.append(sent_vec)\n",
    "    row += 1\n",
    "print(len(tfidf_vectors_cv))\n",
    "\n",
    "list_of_sentance_test=[]\n",
    "for sentance in xTest:\n",
    "    list_of_sentance_test.append(sentance.split())\n",
    "tfidf_vectors_test = []; \n",
    "row=0;\n",
    "for sent in tqdm(list_of_sentance_test):\n",
    "    sent_vec = np.zeros(50)\n",
    "    weight_sum =0; \n",
    "    for word in sent:\n",
    "        if word in w2v_words and word in tfidf_feat:\n",
    "            vec = w2v_model.wv[word]\n",
    "            tf_idf = dictionary[word]*(sent.count(word)/len(sent))\n",
    "            sent_vec += (vec * tf_idf)\n",
    "            weight_sum += tf_idf\n",
    "    if weight_sum != 0:\n",
    "        sent_vec /= weight_sum\n",
    "    tfidf_vectors_test.append(sent_vec)\n",
    "    row += 1\n",
    "print(len(tfidf_vectors_test))"
   ]
  },
  {
   "cell_type": "code",
   "execution_count": 75,
   "metadata": {
    "colab": {},
    "colab_type": "code",
    "id": "73jEJE0xhJA9"
   },
   "outputs": [
    {
     "data": {
      "image/png": "[encoded data removed]",
      "text/plain": [
       "<Figure size 432x288 with 1 Axes>"
      ]
     },
     "metadata": {
      "needs_background": "light"
     },
     "output_type": "display_data"
    },
    {
     "name": "stdout",
     "output_type": "stream",
     "text": [
      "\n",
      "The number of cross-validation splits are 3\n",
      "The best C to be used is 100\n",
      "score achieved is 86.78329744511348\n"
     ]
    }
   ],
   "source": [
    "xTrain3=tfidf_vectors_train\n",
    "x_cv3=tfidf_vectors_cv\n",
    "x_Test3=tfidf_vectors_test\n",
    "\n",
    "l_svc=SVC(kernel='rbf')\n",
    "from sklearn.model_selection import GridSearchCV\n",
    "alpa=[10**-4, 10**-3,10**-2,10**-1,1,10,100,1000,10000]\n",
    "param_grid=[{'C':alpa}]\n",
    "gs=GridSearchCV(l_svc,param_grid,scoring='roc_auc',return_train_score=True)\n",
    "gs.fit(xTrain3,yTrain)\n",
    "results=gs.cv_results_\n",
    "\n",
    "import math\n",
    "params=results['params']\n",
    "cv_score=results['mean_test_score']\n",
    "train_score=results['mean_train_score']\n",
    "\n",
    "for j in range(len(alpa)):\n",
    "    alpa[j]=math.log(alpa[j])\n",
    "\n",
    "plt.plot(alpa,train_score,label='Train AUC')\n",
    "plt.plot(alpa,cv_score,label='CV AUC')\n",
    "plt.legend()\n",
    "plt.title('AUV VS ALPHA WITH RBF KERNEL')\n",
    "plt.xlabel(\"alpha: hyperparameter\")\n",
    "plt.ylabel(\"score\")\n",
    "plt.show()\n",
    "best=gs.best_params_\n",
    "best_c=best['C']\n",
    "\n",
    "best_fold=gs.n_splits_\n",
    "print()\n",
    "print('The number of cross-validation splits are '+str(best_fold))\n",
    "print('The best C to be used is '+str(best_c))\n",
    "print('score achieved is '+str(gs.best_score_*100))\n",
    "\n"
   ]
  },
  {
   "cell_type": "code",
   "execution_count": 76,
   "metadata": {
    "colab": {},
    "colab_type": "code",
    "id": "RtfAOsnWhJBC"
   },
   "outputs": [
    {
     "data": {
      "image/png": "[encoded data removed]",
      "text/plain": [
       "<Figure size 432x288 with 1 Axes>"
      ]
     },
     "metadata": {
      "needs_background": "light"
     },
     "output_type": "display_data"
    }
   ],
   "source": [
    "\n",
    "from sklearn.linear_model import SGDClassifier\n",
    "l_svc=SVC(C=best_c,probability=True,kernel='rbf')\n",
    "l_svc.fit(xTrain3,yTrain)\n",
    "\n",
    "\n",
    "#auc\n",
    "#https://machinelearningmastery.com/roc-curves-and-precision-recall-curves-for-classification-in-python/\n",
    "\n",
    "pred_Train=l_svc.predict_proba(xTrain3)[:,1]\n",
    "fpr, tpr, t = metrics.roc_curve(yTrain, pred_Train)\n",
    "pred_Test=l_svc.predict_proba(x_Test3)[:,1]\n",
    "fpr1, tpr1, t1 = metrics.roc_curve(yTest, pred_Test)\n",
    "\n",
    "from sklearn.metrics import roc_auc_score\n",
    "plt.plot(fpr,tpr, label='Train AUC,auc='+str(roc_auc_score(yTrain,pred_Train)))\n",
    "plt.plot(fpr1,tpr1, label='Test AUC,auc='+str(roc_auc_score(yTest,pred_Test)))\n",
    "plt.title('ROC')\n",
    "plt.xlabel('FPR')\n",
    "plt.ylabel('TPR')\n",
    "plt.legend()\n",
    "plt.show()"
   ]
  },
  {
   "cell_type": "code",
   "execution_count": 77,
   "metadata": {
    "colab": {},
    "colab_type": "code",
    "id": "IKBln1KnhJBG"
   },
   "outputs": [
    {
     "data": {
      "image/png": "[encoded data removed]",
      "text/plain": [
       "<Figure size 432x288 with 2 Axes>"
      ]
     },
     "metadata": {
      "needs_background": "light"
     },
     "output_type": "display_data"
    }
   ],
   "source": [
    "\n",
    "#confusion matrix for train data\n",
    "import seaborn as sns\n",
    "import pandas as pd\n",
    "import matplotlib.pyplot as plt\n",
    "from sklearn.metrics import confusion_matrix\n",
    "acc3=l_svc.predict(xTrain3)\n",
    "#https://stackoverflow.com/questions/35572000/how-can-i-plot-a-confusion-matrix       \n",
    "fig= confusion_matrix(yTrain,acc3)\n",
    "labels= [\"negative\", \"positive\"]\n",
    "data= pd.DataFrame(fig, index = labels,columns = labels)\n",
    "sns.heatmap(data,annot=True,fmt=\"d\")\n",
    "plt.title(\"Confusion Matrix\")\n",
    "plt.xlabel(\"Predicted values\")\n",
    "plt.ylabel(\"True values\")\n",
    "plt.show()"
   ]
  },
  {
   "cell_type": "code",
   "execution_count": 78,
   "metadata": {
    "colab": {},
    "colab_type": "code",
    "id": "ZASfMROyhJBK"
   },
   "outputs": [
    {
     "data": {
      "image/png": "[encoded data removed]",
      "text/plain": [
       "<Figure size 432x288 with 2 Axes>"
      ]
     },
     "metadata": {
      "needs_background": "light"
     },
     "output_type": "display_data"
    }
   ],
   "source": [
    "#confusion matrix for test data\n",
    "import seaborn as sn\n",
    "import pandas as pd\n",
    "import matplotlib.pyplot as plt\n",
    "from sklearn.metrics import confusion_matrix\n",
    "acc3=l_svc.predict(x_Test3)\n",
    "#https://stackoverflow.com/questions/35572000/how-can-i-plot-a-confusion-matrix       \n",
    "import seaborn as sns\n",
    "fig= confusion_matrix(yTest,acc3)\n",
    "labels= [\"negative\", \"positive\"]\n",
    "data= pd.DataFrame(fig, index = labels,columns = labels)\n",
    "sns.heatmap(data,annot=True,fmt=\"d\")\n",
    "plt.title(\"Confusion Matrix\")\n",
    "plt.xlabel(\"Predicted values\")\n",
    "plt.ylabel(\"True values\")\n",
    "plt.show()"
   ]
  },
  {
   "cell_type": "markdown",
   "metadata": {
    "colab_type": "text",
    "id": "XzOIY9DUXM34"
   },
   "source": [
    "# [6] Conclusions"
   ]
  },
  {
   "cell_type": "code",
   "execution_count": 79,
   "metadata": {
    "colab": {},
    "colab_type": "code",
    "id": "TVfmGdRhXM35"
   },
   "outputs": [
    {
     "name": "stdout",
     "output_type": "stream",
     "text": [
      "LINEAR KERNEL SVM\n",
      "+----------------+-------+--------+---------+------------+\n",
      "|   Parameters   |  BOW  | TF-IDF | Avg W2V | TF-IDF W2V |\n",
      "+----------------+-------+--------+---------+------------+\n",
      "|     alpha      |  0.1  |  0.1   |  0.0001 |   0.0001   |\n",
      "| regularization |   l2  |   l2   |    l2   |     l2     |\n",
      "|   AUC (Test)   | 0.907 | 0.907  |  0.895  |   0.869    |\n",
      "+----------------+-------+--------+---------+------------+\n",
      "RBF KERNEL SVM\n",
      "+------------+-------+--------+---------+------------+\n",
      "| Parameters |  BOW  | TF-IDF | Avg W2V | TF-IDF W2V |\n",
      "+------------+-------+--------+---------+------------+\n",
      "|     C      |   10  |   10   |   100   |    1000    |\n",
      "| AUC (Test) | 0.887 | 0.866  |  0.888  |   0.864    |\n",
      "+------------+-------+--------+---------+------------+\n"
     ]
    }
   ],
   "source": [
    "# Please compare all your models using Prettytable library\n",
    "from prettytable import PrettyTable\n",
    "x = PrettyTable()\n",
    "print('LINEAR KERNEL SVM')\n",
    "x.field_names = [\"Parameters\",\"BOW\", \"TF-IDF\",\"Avg W2V\",\"TF-IDF W2V\"]\n",
    "x.add_row([\"alpha\",0.1,1,0.001,0.001])\n",
    "x.add_row([\"regularization\",'l2','l2','l1','l2'])\n",
    "x.add_row([\"AUC (Test)\",0.907,0.910,0.896,0.873])\n",
    "print(x)\n",
    "print('RBF KERNEL SVM')\n",
    "y = PrettyTable()\n",
    "y.field_names = [\"Parameters\",\"BOW\", \"TF-IDF\",\"Avg W2V\",\"TF-IDF W2V\"]\n",
    "y.add_row([\"C\",10,1,100,100])\n",
    "y.add_row([\"AUC (Test)\",0.888,0.884,0.886,0.865])\n",
    "print(y)\n"
   ]
  }
 ],
 "metadata": {
  "colab": {
   "collapsed_sections": [],
   "name": "07 Amazon Fine Food Reviews Analysis_Support Vector Machines.ipynb",
   "provenance": []
  },
  "kernelspec": {
   "display_name": "Python 3",
   "language": "python",
   "name": "python3"
  },
  "language_info": {
   "codemirror_mode": {
    "name": "ipython",
    "version": 3
   },
   "file_extension": ".py",
   "mimetype": "text/x-python",
   "name": "python",
   "nbconvert_exporter": "python",
   "pygments_lexer": "ipython3",
   "version": "3.7.7"
  }
 },
 "nbformat": 4,
 "nbformat_minor": 1
}
